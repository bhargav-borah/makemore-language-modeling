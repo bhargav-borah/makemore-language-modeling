{
  "nbformat": 4,
  "nbformat_minor": 0,
  "metadata": {
    "colab": {
      "provenance": []
    },
    "kernelspec": {
      "name": "python3",
      "display_name": "Python 3"
    },
    "language_info": {
      "name": "python"
    }
  },
  "cells": [
    {
      "cell_type": "code",
      "execution_count": 3,
      "metadata": {
        "id": "la1RkCJP6avU"
      },
      "outputs": [],
      "source": [
        "import torch\n",
        "import torch.nn.functional as F\n",
        "\n",
        "import matplotlib.pyplot as plt\n",
        "%matplotlib inline"
      ]
    },
    {
      "cell_type": "code",
      "source": [
        "# read in all the words\n",
        "words = open('names.txt', 'r').read().splitlines()\n",
        "words[:10], len(words)"
      ],
      "metadata": {
        "colab": {
          "base_uri": "https://localhost:8080/"
        },
        "id": "gsEpd_gu6ykl",
        "outputId": "d9d94760-c88c-42f8-ed20-29d81f368350"
      },
      "execution_count": 4,
      "outputs": [
        {
          "output_type": "execute_result",
          "data": {
            "text/plain": [
              "(['emma',\n",
              "  'olivia',\n",
              "  'ava',\n",
              "  'isabella',\n",
              "  'sophia',\n",
              "  'charlotte',\n",
              "  'mia',\n",
              "  'amelia',\n",
              "  'harper',\n",
              "  'evelyn'],\n",
              " 32033)"
            ]
          },
          "metadata": {},
          "execution_count": 4
        }
      ]
    },
    {
      "cell_type": "code",
      "source": [
        "# build the vocabulary of characters and mappings to/from integers\n",
        "chars = sorted(list(set(''.join(words))))\n",
        "stoi = {s:i+1 for i, s in enumerate(chars)}\n",
        "stoi['.'] = 0\n",
        "itos = {i:s for s, i in stoi.items()}\n",
        "itos"
      ],
      "metadata": {
        "colab": {
          "base_uri": "https://localhost:8080/"
        },
        "id": "eJnev0KJ7GmD",
        "outputId": "5db775f3-3cac-4f87-c258-0da6f594fb02"
      },
      "execution_count": 5,
      "outputs": [
        {
          "output_type": "execute_result",
          "data": {
            "text/plain": [
              "{1: 'a',\n",
              " 2: 'b',\n",
              " 3: 'c',\n",
              " 4: 'd',\n",
              " 5: 'e',\n",
              " 6: 'f',\n",
              " 7: 'g',\n",
              " 8: 'h',\n",
              " 9: 'i',\n",
              " 10: 'j',\n",
              " 11: 'k',\n",
              " 12: 'l',\n",
              " 13: 'm',\n",
              " 14: 'n',\n",
              " 15: 'o',\n",
              " 16: 'p',\n",
              " 17: 'q',\n",
              " 18: 'r',\n",
              " 19: 's',\n",
              " 20: 't',\n",
              " 21: 'u',\n",
              " 22: 'v',\n",
              " 23: 'w',\n",
              " 24: 'x',\n",
              " 25: 'y',\n",
              " 26: 'z',\n",
              " 0: '.'}"
            ]
          },
          "metadata": {},
          "execution_count": 5
        }
      ]
    },
    {
      "cell_type": "code",
      "source": [
        "# # build the dataset\n",
        "\n",
        "# block_size = 3 # context length: how many characters do we take to predict the next one?\n",
        "# X, Y = [], []\n",
        "\n",
        "# for w in words:\n",
        "\n",
        "#   # print(w)\n",
        "#   context = [0] * block_size\n",
        "#   for ch in w + '.':\n",
        "#     ix = stoi[ch]\n",
        "#     X.append(context)\n",
        "#     Y.append(ix)\n",
        "#     # print(''.join(itos[i] for i in context), '--->', itos[ix])\n",
        "#     context = context[1:] + [ix] # crop and append\n",
        "\n",
        "# X = torch.tensor(X)\n",
        "# Y = torch.tensor(Y)"
      ],
      "metadata": {
        "id": "12CbQpdo7cJo"
      },
      "execution_count": 6,
      "outputs": []
    },
    {
      "cell_type": "code",
      "source": [
        "# build the dataset\n",
        "\n",
        "def build_dataset(words):\n",
        "  block_size = 3\n",
        "  X, Y = [], []\n",
        "\n",
        "  for w in words:\n",
        "    # print(w)\n",
        "    context = [0] * block_size\n",
        "    for ch in w + '.':\n",
        "      ix = stoi[ch]\n",
        "      X.append(context)\n",
        "      Y.append(ix)\n",
        "      # print(''.join(itos[i] for i in context), '--->', itos[ix])\n",
        "      context = context[1:] + [ix]\n",
        "\n",
        "  X = torch.tensor(X)\n",
        "  Y = torch.tensor(Y)\n",
        "  print(X.shape, Y.shape)\n",
        "  return X, Y\n",
        "\n",
        "import random\n",
        "random.seed(42)\n",
        "random.shuffle(words)\n",
        "n1 = int(0.8 * len(words))\n",
        "n2 = int(0.9 * len(words))\n",
        "\n",
        "Xtr, Ytr = build_dataset(words[:n1])\n",
        "Xdev, Ydev = build_dataset(words[n1:n2])\n",
        "Xte, Yte = build_dataset(words[n2:])"
      ],
      "metadata": {
        "colab": {
          "base_uri": "https://localhost:8080/"
        },
        "id": "9g4yzo5JpQoW",
        "outputId": "ac13c50c-cee6-4bdf-8687-fb54a623fd23"
      },
      "execution_count": 78,
      "outputs": [
        {
          "output_type": "stream",
          "name": "stdout",
          "text": [
            "torch.Size([182437, 3]) torch.Size([182437])\n",
            "torch.Size([22781, 3]) torch.Size([22781])\n",
            "torch.Size([22928, 3]) torch.Size([22928])\n"
          ]
        }
      ]
    },
    {
      "cell_type": "code",
      "source": [
        "# for x, y in zip(X, Y):\n",
        "#   print(x, '->', y.item())"
      ],
      "metadata": {
        "id": "NJHU52BL8NqK"
      },
      "execution_count": 7,
      "outputs": []
    },
    {
      "cell_type": "code",
      "source": [
        "# X.shape, X.dtype, Y.shape, Y.dtype"
      ],
      "metadata": {
        "id": "cZ9MVfm-9Qbe"
      },
      "execution_count": 79,
      "outputs": []
    },
    {
      "cell_type": "code",
      "source": [
        "# C = torch.randn((27, 2)) # each of the 27 characters will have a 2 dimensional embedding"
      ],
      "metadata": {
        "id": "suq_7Mp99kJV"
      },
      "execution_count": 80,
      "outputs": []
    },
    {
      "cell_type": "code",
      "source": [
        "# C[5]"
      ],
      "metadata": {
        "id": "GmgRZNs897sf"
      },
      "execution_count": 81,
      "outputs": []
    },
    {
      "cell_type": "code",
      "source": [
        "# F.one_hot(torch.tensor(5), num_classes=27).float() @ C"
      ],
      "metadata": {
        "id": "Fqy2zqVU98a2"
      },
      "execution_count": 82,
      "outputs": []
    },
    {
      "cell_type": "code",
      "source": [
        "# (1 * 27) @ (27 * 2) -> 1 * 2"
      ],
      "metadata": {
        "id": "kHk1yF34-JPO"
      },
      "execution_count": 12,
      "outputs": []
    },
    {
      "cell_type": "code",
      "source": [
        "# C[[5, 6, 7]]"
      ],
      "metadata": {
        "colab": {
          "base_uri": "https://localhost:8080/"
        },
        "id": "z1-_NOyl-zfq",
        "outputId": "a474f504-fca0-4508-a314-c5eb2ae11e9d"
      },
      "execution_count": 13,
      "outputs": [
        {
          "output_type": "execute_result",
          "data": {
            "text/plain": [
              "tensor([[ 0.9715,  0.7896],\n",
              "        [ 0.8016, -1.3054],\n",
              "        [ 0.7999,  0.7417]])"
            ]
          },
          "metadata": {},
          "execution_count": 13
        }
      ]
    },
    {
      "cell_type": "code",
      "source": [
        "# F.one_hot(torch.tensor([5, 6, 7]), num_classes=27).float() @ C"
      ],
      "metadata": {
        "colab": {
          "base_uri": "https://localhost:8080/"
        },
        "id": "a5_PR8S5-1r3",
        "outputId": "f3afc492-67b1-4933-8e13-9d3e38c96fb5"
      },
      "execution_count": 14,
      "outputs": [
        {
          "output_type": "execute_result",
          "data": {
            "text/plain": [
              "tensor([[ 0.9715,  0.7896],\n",
              "        [ 0.8016, -1.3054],\n",
              "        [ 0.7999,  0.7417]])"
            ]
          },
          "metadata": {},
          "execution_count": 14
        }
      ]
    },
    {
      "cell_type": "code",
      "source": [
        "# X, X.shape"
      ],
      "metadata": {
        "colab": {
          "base_uri": "https://localhost:8080/"
        },
        "id": "CDgCEOh8_APt",
        "outputId": "bce3992f-56cd-4810-9a89-63e3645900b4"
      },
      "execution_count": 15,
      "outputs": [
        {
          "output_type": "execute_result",
          "data": {
            "text/plain": [
              "(tensor([[ 0,  0,  0],\n",
              "         [ 0,  0,  5],\n",
              "         [ 0,  5, 13],\n",
              "         ...,\n",
              "         [26, 26, 25],\n",
              "         [26, 25, 26],\n",
              "         [25, 26, 24]]),\n",
              " torch.Size([228146, 3]))"
            ]
          },
          "metadata": {},
          "execution_count": 15
        }
      ]
    },
    {
      "cell_type": "code",
      "source": [
        "# C[X], C[X].shape"
      ],
      "metadata": {
        "colab": {
          "base_uri": "https://localhost:8080/"
        },
        "id": "lOQtJ4Ih_IbQ",
        "outputId": "d08f1891-9b12-4368-9cb2-467b5d64ebc9"
      },
      "execution_count": 16,
      "outputs": [
        {
          "output_type": "execute_result",
          "data": {
            "text/plain": [
              "(tensor([[[ 0.0272,  1.5171],\n",
              "          [ 0.0272,  1.5171],\n",
              "          [ 0.0272,  1.5171]],\n",
              " \n",
              "         [[ 0.0272,  1.5171],\n",
              "          [ 0.0272,  1.5171],\n",
              "          [ 0.9715,  0.7896]],\n",
              " \n",
              "         [[ 0.0272,  1.5171],\n",
              "          [ 0.9715,  0.7896],\n",
              "          [ 0.1488, -0.0930]],\n",
              " \n",
              "         ...,\n",
              " \n",
              "         [[ 0.1635,  0.3231],\n",
              "          [ 0.1635,  0.3231],\n",
              "          [-0.6778, -1.7269]],\n",
              " \n",
              "         [[ 0.1635,  0.3231],\n",
              "          [-0.6778, -1.7269],\n",
              "          [ 0.1635,  0.3231]],\n",
              " \n",
              "         [[-0.6778, -1.7269],\n",
              "          [ 0.1635,  0.3231],\n",
              "          [ 1.0550, -1.8632]]]),\n",
              " torch.Size([228146, 3, 2]))"
            ]
          },
          "metadata": {},
          "execution_count": 16
        }
      ]
    },
    {
      "cell_type": "code",
      "source": [
        "# X[13, 2]"
      ],
      "metadata": {
        "colab": {
          "base_uri": "https://localhost:8080/"
        },
        "id": "ZckFOBW0_TEi",
        "outputId": "313fdbd3-f9cf-4291-f434-a735864ee611"
      },
      "execution_count": 17,
      "outputs": [
        {
          "output_type": "execute_result",
          "data": {
            "text/plain": [
              "tensor(1)"
            ]
          },
          "metadata": {},
          "execution_count": 17
        }
      ]
    },
    {
      "cell_type": "code",
      "source": [
        "# C[X][13, 2]"
      ],
      "metadata": {
        "colab": {
          "base_uri": "https://localhost:8080/"
        },
        "id": "GoByWMx3_iEX",
        "outputId": "649ed65e-4505-43ae-e192-fcc19953d878"
      },
      "execution_count": 18,
      "outputs": [
        {
          "output_type": "execute_result",
          "data": {
            "text/plain": [
              "tensor([-0.1861, -0.6392])"
            ]
          },
          "metadata": {},
          "execution_count": 18
        }
      ]
    },
    {
      "cell_type": "code",
      "source": [
        "# emb = C[X]\n",
        "# emb.shape"
      ],
      "metadata": {
        "colab": {
          "base_uri": "https://localhost:8080/"
        },
        "id": "dPx397fp_q81",
        "outputId": "1367ef8d-f62a-43d1-bf47-1fe4724d545c"
      },
      "execution_count": 19,
      "outputs": [
        {
          "output_type": "execute_result",
          "data": {
            "text/plain": [
              "torch.Size([228146, 3, 2])"
            ]
          },
          "metadata": {},
          "execution_count": 19
        }
      ]
    },
    {
      "cell_type": "code",
      "source": [
        "# W1 = torch.randn((6, 100))\n",
        "# b1 = torch.randn(100)      # 6 = 2 * 3, 100 is the number of neurons"
      ],
      "metadata": {
        "id": "VC_ehWA-__gg"
      },
      "execution_count": 20,
      "outputs": []
    },
    {
      "cell_type": "code",
      "source": [
        "# emb @ W1 + b1"
      ],
      "metadata": {
        "id": "JxjLUsyLAdbj"
      },
      "execution_count": 21,
      "outputs": []
    },
    {
      "cell_type": "code",
      "source": [
        "# torch.cat([emb[:, 0, :], emb[:, 1, :], emb[:, 2, :]], dim=1).shape"
      ],
      "metadata": {
        "colab": {
          "base_uri": "https://localhost:8080/"
        },
        "id": "NdOnsLakAjft",
        "outputId": "b523f596-3ab8-4b53-cc41-c9d021c12f22"
      },
      "execution_count": 22,
      "outputs": [
        {
          "output_type": "execute_result",
          "data": {
            "text/plain": [
              "torch.Size([228146, 6])"
            ]
          },
          "metadata": {},
          "execution_count": 22
        }
      ]
    },
    {
      "cell_type": "code",
      "source": [
        "# torch.cat(torch.unbind(emb, 1), 1).shape"
      ],
      "metadata": {
        "colab": {
          "base_uri": "https://localhost:8080/"
        },
        "id": "UYKFL_94A8EY",
        "outputId": "d9823141-2455-4bf2-e9bf-30073ff557bc"
      },
      "execution_count": 23,
      "outputs": [
        {
          "output_type": "execute_result",
          "data": {
            "text/plain": [
              "torch.Size([228146, 6])"
            ]
          },
          "metadata": {},
          "execution_count": 23
        }
      ]
    },
    {
      "cell_type": "code",
      "source": [
        "a = torch.arange(18)\n",
        "a.shape"
      ],
      "metadata": {
        "colab": {
          "base_uri": "https://localhost:8080/"
        },
        "id": "_0bGiNv_BdmA",
        "outputId": "ba111669-e79c-40ff-a9bb-f4a7e332603c"
      },
      "execution_count": 24,
      "outputs": [
        {
          "output_type": "execute_result",
          "data": {
            "text/plain": [
              "torch.Size([18])"
            ]
          },
          "metadata": {},
          "execution_count": 24
        }
      ]
    },
    {
      "cell_type": "code",
      "source": [
        "a.view(3, 3, 2)"
      ],
      "metadata": {
        "colab": {
          "base_uri": "https://localhost:8080/"
        },
        "id": "7jq4gvmpByG3",
        "outputId": "aceba7f4-4296-41a2-a8d3-7cad23016f9a"
      },
      "execution_count": 25,
      "outputs": [
        {
          "output_type": "execute_result",
          "data": {
            "text/plain": [
              "tensor([[[ 0,  1],\n",
              "         [ 2,  3],\n",
              "         [ 4,  5]],\n",
              "\n",
              "        [[ 6,  7],\n",
              "         [ 8,  9],\n",
              "         [10, 11]],\n",
              "\n",
              "        [[12, 13],\n",
              "         [14, 15],\n",
              "         [16, 17]]])"
            ]
          },
          "metadata": {},
          "execution_count": 25
        }
      ]
    },
    {
      "cell_type": "code",
      "source": [
        "a.storage(), a.untyped_storage()"
      ],
      "metadata": {
        "colab": {
          "base_uri": "https://localhost:8080/"
        },
        "id": "pkC6FrysB2b7",
        "outputId": "c4166b28-b373-4c90-9f36-6964784e1002"
      },
      "execution_count": 26,
      "outputs": [
        {
          "output_type": "stream",
          "name": "stderr",
          "text": [
            "<ipython-input-26-74963e578f9d>:1: UserWarning: TypedStorage is deprecated. It will be removed in the future and UntypedStorage will be the only storage class. This should only matter to you if you are using storages directly.  To access UntypedStorage directly, use tensor.untyped_storage() instead of tensor.storage()\n",
            "  a.storage(), a.untyped_storage()\n"
          ]
        },
        {
          "output_type": "execute_result",
          "data": {
            "text/plain": [
              "( 0\n",
              "  1\n",
              "  2\n",
              "  3\n",
              "  4\n",
              "  5\n",
              "  6\n",
              "  7\n",
              "  8\n",
              "  9\n",
              "  10\n",
              "  11\n",
              "  12\n",
              "  13\n",
              "  14\n",
              "  15\n",
              "  16\n",
              "  17\n",
              " [torch.storage.TypedStorage(dtype=torch.int64, device=cpu) of size 18],\n",
              "  0\n",
              "  0\n",
              "  0\n",
              "  0\n",
              "  0\n",
              "  0\n",
              "  0\n",
              "  0\n",
              "  1\n",
              "  0\n",
              "  0\n",
              "  0\n",
              "  0\n",
              "  0\n",
              "  0\n",
              "  0\n",
              "  2\n",
              "  0\n",
              "  0\n",
              "  0\n",
              "  0\n",
              "  0\n",
              "  0\n",
              "  0\n",
              "  3\n",
              "  0\n",
              "  0\n",
              "  0\n",
              "  0\n",
              "  0\n",
              "  0\n",
              "  0\n",
              "  4\n",
              "  0\n",
              "  0\n",
              "  0\n",
              "  0\n",
              "  0\n",
              "  0\n",
              "  0\n",
              "  5\n",
              "  0\n",
              "  0\n",
              "  0\n",
              "  0\n",
              "  0\n",
              "  0\n",
              "  0\n",
              "  6\n",
              "  0\n",
              "  0\n",
              "  0\n",
              "  0\n",
              "  0\n",
              "  0\n",
              "  0\n",
              "  7\n",
              "  0\n",
              "  0\n",
              "  0\n",
              "  0\n",
              "  0\n",
              "  0\n",
              "  0\n",
              "  8\n",
              "  0\n",
              "  0\n",
              "  0\n",
              "  0\n",
              "  0\n",
              "  0\n",
              "  0\n",
              "  9\n",
              "  0\n",
              "  0\n",
              "  0\n",
              "  0\n",
              "  0\n",
              "  0\n",
              "  0\n",
              "  10\n",
              "  0\n",
              "  0\n",
              "  0\n",
              "  0\n",
              "  0\n",
              "  0\n",
              "  0\n",
              "  11\n",
              "  0\n",
              "  0\n",
              "  0\n",
              "  0\n",
              "  0\n",
              "  0\n",
              "  0\n",
              "  12\n",
              "  0\n",
              "  0\n",
              "  0\n",
              "  0\n",
              "  0\n",
              "  0\n",
              "  0\n",
              "  13\n",
              "  0\n",
              "  0\n",
              "  0\n",
              "  0\n",
              "  0\n",
              "  0\n",
              "  0\n",
              "  14\n",
              "  0\n",
              "  0\n",
              "  0\n",
              "  0\n",
              "  0\n",
              "  0\n",
              "  0\n",
              "  15\n",
              "  0\n",
              "  0\n",
              "  0\n",
              "  0\n",
              "  0\n",
              "  0\n",
              "  0\n",
              "  16\n",
              "  0\n",
              "  0\n",
              "  0\n",
              "  0\n",
              "  0\n",
              "  0\n",
              "  0\n",
              "  17\n",
              "  0\n",
              "  0\n",
              "  0\n",
              "  0\n",
              "  0\n",
              "  0\n",
              "  0\n",
              " [torch.storage.UntypedStorage(device=cpu) of size 144])"
            ]
          },
          "metadata": {},
          "execution_count": 26
        }
      ]
    },
    {
      "cell_type": "code",
      "source": [
        "# emb.view(32, 6) == torch.cat(torch.unbind(emb, 1), 1)"
      ],
      "metadata": {
        "id": "bO3vtOxZB9Ly"
      },
      "execution_count": 29,
      "outputs": []
    },
    {
      "cell_type": "code",
      "source": [
        "# h = emb.view(emb.shape[0], 6) @ W1 + b1\n",
        "# h = emb.view(-1, 6) @ W1 + b1"
      ],
      "metadata": {
        "id": "UP6e4PVlCTIu"
      },
      "execution_count": 30,
      "outputs": []
    },
    {
      "cell_type": "code",
      "source": [
        "# h.shape"
      ],
      "metadata": {
        "colab": {
          "base_uri": "https://localhost:8080/"
        },
        "id": "4KTtye9sCj4z",
        "outputId": "45d6f734-5c07-4d0b-cb5c-a224d9f9fb26"
      },
      "execution_count": 31,
      "outputs": [
        {
          "output_type": "execute_result",
          "data": {
            "text/plain": [
              "torch.Size([228146, 100])"
            ]
          },
          "metadata": {},
          "execution_count": 31
        }
      ]
    },
    {
      "cell_type": "code",
      "source": [
        "# h"
      ],
      "metadata": {
        "colab": {
          "base_uri": "https://localhost:8080/"
        },
        "id": "Kwo8b7cxCksf",
        "outputId": "03462ddb-4b26-4e05-a409-a649c3d49c5e"
      },
      "execution_count": 32,
      "outputs": [
        {
          "output_type": "execute_result",
          "data": {
            "text/plain": [
              "tensor([[-0.4905,  0.1365, -0.2004,  ...,  2.5077,  1.2875, -2.4062],\n",
              "        [-1.8093, -1.5497,  0.8841,  ...,  3.5713,  0.7080, -3.3160],\n",
              "        [ 1.0750, -0.8513,  1.4673,  ..., -0.1831,  2.0559, -2.7178],\n",
              "        ...,\n",
              "        [ 2.3605, -1.2980,  2.3425,  ..., -2.5374,  1.7879,  1.2559],\n",
              "        [-0.9738,  0.3690, -1.8029,  ..., -2.5059,  0.1165, -1.9850],\n",
              "        [-2.3855, -3.7547, -0.6198,  ..., -2.0707,  0.1794,  3.2654]])"
            ]
          },
          "metadata": {},
          "execution_count": 32
        }
      ]
    },
    {
      "cell_type": "code",
      "source": [
        "# h = torch.tanh(emb.view(-1, 6) @ W1 + b1)"
      ],
      "metadata": {
        "id": "1cfpy3D3ClW_"
      },
      "execution_count": 33,
      "outputs": []
    },
    {
      "cell_type": "code",
      "source": [
        "# h"
      ],
      "metadata": {
        "colab": {
          "base_uri": "https://localhost:8080/"
        },
        "id": "Uj_BRnDiC-DT",
        "outputId": "056d95fa-019a-4c33-b024-013b124a67a0"
      },
      "execution_count": 34,
      "outputs": [
        {
          "output_type": "execute_result",
          "data": {
            "text/plain": [
              "tensor([[-0.4547,  0.1356, -0.1978,  ...,  0.9868,  0.8585, -0.9839],\n",
              "        [-0.9478, -0.9137,  0.7085,  ...,  0.9984,  0.6094, -0.9974],\n",
              "        [ 0.7914, -0.6917,  0.8991,  ..., -0.1810,  0.9678, -0.9913],\n",
              "        ...,\n",
              "        [ 0.9823, -0.8612,  0.9817,  ..., -0.9876,  0.9455,  0.8499],\n",
              "        [-0.7503,  0.3531, -0.9471,  ..., -0.9868,  0.1160, -0.9630],\n",
              "        [-0.9832, -0.9989, -0.5510,  ..., -0.9687,  0.1775,  0.9971]])"
            ]
          },
          "metadata": {},
          "execution_count": 34
        }
      ]
    },
    {
      "cell_type": "code",
      "source": [
        "# h.shape"
      ],
      "metadata": {
        "colab": {
          "base_uri": "https://localhost:8080/"
        },
        "id": "kCamMp8JDAAW",
        "outputId": "00fcb144-2113-4325-c26c-3eea3c443841"
      },
      "execution_count": 35,
      "outputs": [
        {
          "output_type": "execute_result",
          "data": {
            "text/plain": [
              "torch.Size([228146, 100])"
            ]
          },
          "metadata": {},
          "execution_count": 35
        }
      ]
    },
    {
      "cell_type": "code",
      "source": [
        "# (emb.view(-1, 6) @ W1).shape, b1.shape"
      ],
      "metadata": {
        "colab": {
          "base_uri": "https://localhost:8080/"
        },
        "id": "jV8ITa83DBwA",
        "outputId": "32904cbf-35ae-431b-93ab-f158b7f82cb5"
      },
      "execution_count": 36,
      "outputs": [
        {
          "output_type": "execute_result",
          "data": {
            "text/plain": [
              "(torch.Size([228146, 100]), torch.Size([100]))"
            ]
          },
          "metadata": {},
          "execution_count": 36
        }
      ]
    },
    {
      "cell_type": "code",
      "source": [
        "# 32 100\n",
        "# 1  100"
      ],
      "metadata": {
        "id": "ifxxqGzuDJjg"
      },
      "execution_count": 37,
      "outputs": []
    },
    {
      "cell_type": "code",
      "source": [
        "# W2 = torch.randn((100, 27))\n",
        "# b2 = torch.randn(27)"
      ],
      "metadata": {
        "id": "2VXEgn5nDVoW"
      },
      "execution_count": 38,
      "outputs": []
    },
    {
      "cell_type": "code",
      "source": [
        "# logits = h @ W2 + b2\n",
        "# logits.shape"
      ],
      "metadata": {
        "colab": {
          "base_uri": "https://localhost:8080/"
        },
        "id": "8wn-WfDIDuAF",
        "outputId": "ec5331d6-944c-4c6d-a4ad-9530923dd7be"
      },
      "execution_count": 39,
      "outputs": [
        {
          "output_type": "execute_result",
          "data": {
            "text/plain": [
              "torch.Size([228146, 27])"
            ]
          },
          "metadata": {},
          "execution_count": 39
        }
      ]
    },
    {
      "cell_type": "code",
      "source": [
        "# logits"
      ],
      "metadata": {
        "colab": {
          "base_uri": "https://localhost:8080/"
        },
        "id": "D9t9U2wFDwx1",
        "outputId": "b39000f6-7bd9-4419-c7aa-917170c94b8f"
      },
      "execution_count": 40,
      "outputs": [
        {
          "output_type": "execute_result",
          "data": {
            "text/plain": [
              "tensor([[ -2.1939,   2.1658,  -9.8075,  ...,   6.3658,   0.8513,  -3.5297],\n",
              "        [ -6.9331,  -0.5318,  -6.9179,  ...,  -2.4804,   5.1184,  -4.5291],\n",
              "        [-12.7925,  -6.7669,  -1.8424,  ...,  -2.8071,  12.4308, -12.4096],\n",
              "        ...,\n",
              "        [-11.4635, -17.7410,   0.3727,  ...,  -0.3627,  12.0384,   2.1377],\n",
              "        [  1.3617,   1.3427,   2.6263,  ...,   2.8306,   0.4741,   4.0289],\n",
              "        [ -8.2741, -13.0315,   5.3465,  ...,  -1.0015,  15.3392,   1.8233]])"
            ]
          },
          "metadata": {},
          "execution_count": 40
        }
      ]
    },
    {
      "cell_type": "code",
      "source": [
        "# counts = logits.exp()\n",
        "# probs = counts / counts.sum(1, keepdim=True)\n",
        "# probs.shape"
      ],
      "metadata": {
        "colab": {
          "base_uri": "https://localhost:8080/"
        },
        "id": "dXu2iwMrDxiD",
        "outputId": "7701c051-6602-4494-e0df-76af64b3e3e4"
      },
      "execution_count": 41,
      "outputs": [
        {
          "output_type": "execute_result",
          "data": {
            "text/plain": [
              "torch.Size([228146, 27])"
            ]
          },
          "metadata": {},
          "execution_count": 41
        }
      ]
    },
    {
      "cell_type": "code",
      "source": [
        "# Y"
      ],
      "metadata": {
        "colab": {
          "base_uri": "https://localhost:8080/"
        },
        "id": "nleHTamCD5l7",
        "outputId": "497ec4a9-cf29-4364-ffef-11a6f8172672"
      },
      "execution_count": 42,
      "outputs": [
        {
          "output_type": "execute_result",
          "data": {
            "text/plain": [
              "tensor([ 5, 13, 13,  ..., 26, 24,  0])"
            ]
          },
          "metadata": {},
          "execution_count": 42
        }
      ]
    },
    {
      "cell_type": "code",
      "source": [
        "# torch.arange(32)"
      ],
      "metadata": {
        "colab": {
          "base_uri": "https://localhost:8080/"
        },
        "id": "1SbqoYzaD7du",
        "outputId": "e037e77e-4e03-42e0-ea9f-1dd55a384ba7"
      },
      "execution_count": 43,
      "outputs": [
        {
          "output_type": "execute_result",
          "data": {
            "text/plain": [
              "tensor([ 0,  1,  2,  3,  4,  5,  6,  7,  8,  9, 10, 11, 12, 13, 14, 15, 16, 17,\n",
              "        18, 19, 20, 21, 22, 23, 24, 25, 26, 27, 28, 29, 30, 31])"
            ]
          },
          "metadata": {},
          "execution_count": 43
        }
      ]
    },
    {
      "cell_type": "code",
      "source": [
        "# loss = -probs[torch.arange(X.shape[0]), Y].log().mean()\n",
        "# loss"
      ],
      "metadata": {
        "colab": {
          "base_uri": "https://localhost:8080/"
        },
        "id": "fT6KtZ1rEa8v",
        "outputId": "877e91f4-c749-414b-a3eb-150bc4ab3eae"
      },
      "execution_count": 48,
      "outputs": [
        {
          "output_type": "execute_result",
          "data": {
            "text/plain": [
              "tensor(16.2314)"
            ]
          },
          "metadata": {},
          "execution_count": 48
        }
      ]
    },
    {
      "cell_type": "code",
      "source": [
        "# polished code"
      ],
      "metadata": {
        "id": "fbPeFJ9REgcl"
      },
      "execution_count": 45,
      "outputs": []
    },
    {
      "cell_type": "code",
      "source": [
        "g = torch.Generator().manual_seed(2147483647)\n",
        "C = torch.randn((27, 10), generator=g)\n",
        "W1 = torch.randn((30, 200), generator=g) # 3 * 10\n",
        "b1 = torch.randn(200, generator=g)\n",
        "W2 = torch.randn((200, 27), generator=g)\n",
        "b2 = torch.randn(27, generator=g)\n",
        "parameters = [C, W1, b1, W2, b2]"
      ],
      "metadata": {
        "id": "eZ7FCYfOE6pF"
      },
      "execution_count": 186,
      "outputs": []
    },
    {
      "cell_type": "code",
      "source": [
        "# sum(p.nelement() for p in parameters)"
      ],
      "metadata": {
        "id": "cjU1Dh17FmYr"
      },
      "execution_count": 187,
      "outputs": []
    },
    {
      "cell_type": "code",
      "source": [
        "# # forward pass\n",
        "# emb = C[X]\n",
        "# h = torch.tanh(emb.view(-1, 6) @ W1 + b1)\n",
        "# logits = h @ W2 + b2\n",
        "# # counts = logits.exp()\n",
        "# # probs = counts / counts.sum(1, keepdim=True)\n",
        "# # loss = -probs[torch.arange(32), Y].log().mean()\n",
        "# loss = F.cross_entropy(logits, Y)\n",
        "# loss"
      ],
      "metadata": {
        "id": "acM5l1bZFqz0"
      },
      "execution_count": 188,
      "outputs": []
    },
    {
      "cell_type": "code",
      "source": [
        "lre = torch.linspace(-3, 0, 10000)\n",
        "lrs = 10**lre\n",
        "# lrs"
      ],
      "metadata": {
        "id": "yTfb6COJPbrP"
      },
      "execution_count": 189,
      "outputs": []
    },
    {
      "cell_type": "code",
      "source": [
        "lri = []\n",
        "lossi = []\n",
        "stepi = []"
      ],
      "metadata": {
        "id": "sz0ePPzHvblJ"
      },
      "execution_count": 190,
      "outputs": []
    },
    {
      "cell_type": "code",
      "source": [
        "for p in parameters:\n",
        "  p.requires_grad = True\n",
        "\n",
        "for i in range(200_000):\n",
        "  # minibatch construction\n",
        "  ix = torch.randint(0, Xtr.shape[0], (32,))\n",
        "\n",
        "  # forward pass\n",
        "  emb = C[Xtr[ix]]\n",
        "  h = torch.tanh(emb.view(-1, 30) @ W1 + b1)\n",
        "  logits = h @ W2 + b2\n",
        "  loss = F.cross_entropy(logits, Ytr[ix])\n",
        "\n",
        "\n",
        "  # backward pass\n",
        "  for p in parameters:\n",
        "    p.grad = None\n",
        "  loss.backward()\n",
        "\n",
        "  # update\n",
        "  # lr = lrs[i]\n",
        "  lr = 0.1 if i < 100000 else 0.01\n",
        "  # lr = 0.1 # 0.1 for early epochs (as determined by lr tracking), 0.01 and 0.001 for later epochs\n",
        "  for p in parameters:\n",
        "    p.data -= lr * p.grad\n",
        "\n",
        "  # track stats\n",
        "  stepi.append(i)\n",
        "  # lri.append(lr)\n",
        "  # lri.append(lre[i])\n",
        "  lossi.append(loss.log10().item())\n",
        "\n",
        "print(loss.item())"
      ],
      "metadata": {
        "id": "W4fXelUoGoq4",
        "colab": {
          "base_uri": "https://localhost:8080/"
        },
        "outputId": "483c42bc-877e-4034-ea10-aa28d58f4189"
      },
      "execution_count": 191,
      "outputs": [
        {
          "output_type": "stream",
          "name": "stdout",
          "text": [
            "1.6552212238311768\n"
          ]
        }
      ]
    },
    {
      "cell_type": "code",
      "source": [
        "plt.plot(stepi, lossi);"
      ],
      "metadata": {
        "colab": {
          "base_uri": "https://localhost:8080/",
          "height": 430
        },
        "id": "gRFjlHH-viHx",
        "outputId": "e4372077-0f71-44fb-846d-57034e0a6280"
      },
      "execution_count": 192,
      "outputs": [
        {
          "output_type": "display_data",
          "data": {
            "text/plain": [
              "<Figure size 640x480 with 1 Axes>"
            ],
            "image/png": "[encoded data removed]"
          },
          "metadata": {}
        }
      ]
    },
    {
      "cell_type": "code",
      "source": [
        "# plt.plot(stepi, lossi);"
      ],
      "metadata": {
        "id": "HHFoEHARs3nd"
      },
      "execution_count": 193,
      "outputs": []
    },
    {
      "cell_type": "code",
      "source": [
        "# plt.plot(lri, lossi);"
      ],
      "metadata": {
        "id": "XnZ0JkZEQBvs"
      },
      "execution_count": 162,
      "outputs": []
    },
    {
      "cell_type": "code",
      "source": [
        "# logits.max(1)"
      ],
      "metadata": {
        "id": "2yRdt7eWKUlR"
      },
      "execution_count": 194,
      "outputs": []
    },
    {
      "cell_type": "code",
      "source": [
        "# Y"
      ],
      "metadata": {
        "id": "GL8sFixlNO1d"
      },
      "execution_count": 195,
      "outputs": []
    },
    {
      "cell_type": "code",
      "source": [
        "# evaluation on training set\n",
        "emb = C[Xtr]\n",
        "h = torch.tanh(emb.view(-1, 30) @ W1 + b1)\n",
        "logits = h @ W2 + b2\n",
        "loss = F.cross_entropy(logits, Ytr)\n",
        "loss"
      ],
      "metadata": {
        "colab": {
          "base_uri": "https://localhost:8080/"
        },
        "id": "3tnS-uafr8uf",
        "outputId": "e400b384-a14f-4067-cd85-df6e010e405f"
      },
      "execution_count": 196,
      "outputs": [
        {
          "output_type": "execute_result",
          "data": {
            "text/plain": [
              "tensor(2.1174, grad_fn=<NllLossBackward0>)"
            ]
          },
          "metadata": {},
          "execution_count": 196
        }
      ]
    },
    {
      "cell_type": "code",
      "source": [
        "# evaluation on test set\n",
        "emb = C[Xdev]\n",
        "h = torch.tanh(emb.view(-1, 30) @ W1 + b1)\n",
        "logits = h @ W2 + b2\n",
        "loss = F.cross_entropy(logits, Ydev)\n",
        "loss"
      ],
      "metadata": {
        "colab": {
          "base_uri": "https://localhost:8080/"
        },
        "id": "e2mkQjvqNQQr",
        "outputId": "b55ae572-6a19-4e76-b03f-b9c0c5902741"
      },
      "execution_count": 197,
      "outputs": [
        {
          "output_type": "execute_result",
          "data": {
            "text/plain": [
              "tensor(2.1761, grad_fn=<NllLossBackward0>)"
            ]
          },
          "metadata": {},
          "execution_count": 197
        }
      ]
    },
    {
      "cell_type": "code",
      "source": [
        "# training split, dev/validation split, test split\n",
        "# 80%, 10%, 10%"
      ],
      "metadata": {
        "id": "6FVTnkGaO1-H"
      },
      "execution_count": 198,
      "outputs": []
    },
    {
      "cell_type": "code",
      "source": [
        "# visualization of embeddings when we used only 2 dimensions to represent each word\n",
        "# plt.figure(figsize=(8, 8))\n",
        "# plt.scatter(C[:, 0].data, C[:, 1].data, s=200)\n",
        "# for i in range(C.shape[0]):\n",
        "#   plt.text(C[i, 0].item(), C[i, 1].item(), itos[i], ha='center',\n",
        "#            va='center', color='white')\n",
        "# plt.grid('minor');"
      ],
      "metadata": {
        "colab": {
          "base_uri": "https://localhost:8080/",
          "height": 617
        },
        "id": "dssYaPr7nLT3",
        "outputId": "e7b6f334-ae86-4abc-a650-6b92f711fafe"
      },
      "execution_count": 199,
      "outputs": [
        {
          "output_type": "display_data",
          "data": {
            "text/plain": [
              "<Figure size 800x800 with 1 Axes>"
            ],
            "image/png": "[encoded data removed]"
          },
          "metadata": {}
        }
      ]
    },
    {
      "cell_type": "code",
      "source": [
        "# sample from the model\n",
        "g = torch.Generator().manual_seed(2147483647)\n",
        "block_size = 3\n",
        "\n",
        "for _ in range(20):\n",
        "  out = []\n",
        "  context = [0] * block_size\n",
        "  while True:\n",
        "    emb = C[torch.tensor([context])] # (1, block_size)\n",
        "    h = torch.tanh(emb.view(1, -1) @ W1 + b1)\n",
        "    logits = h @ W2 + b2\n",
        "    probs = F.softmax(logits, dim=1)\n",
        "    ix = torch.multinomial(probs, num_samples=1, generator=g).item()\n",
        "    out.append(ix)\n",
        "    context = context[1:] + [ix]\n",
        "    if ix == 0:\n",
        "      break\n",
        "\n",
        "  print(''.join(itos[i] for i in out))"
      ],
      "metadata": {
        "colab": {
          "base_uri": "https://localhost:8080/"
        },
        "id": "MR_KYSXtxDrD",
        "outputId": "40a3e378-a8a5-4840-acc7-a59c3ddfdb88"
      },
      "execution_count": 202,
      "outputs": [
        {
          "output_type": "stream",
          "name": "stdout",
          "text": [
            "junide.\n",
            "jakasah.\n",
            "presay.\n",
            "adin.\n",
            "korin.\n",
            "tolian.\n",
            "juhem.\n",
            "sameia.\n",
            "zamileneas.\n",
            "dedaile.\n",
            "imbi.\n",
            "sery.\n",
            "evy.\n",
            "arteziaveunestion.\n",
            "maj.\n",
            "ponnelina.\n",
            "jaylie.\n",
            "raaya.\n",
            "jocely.\n",
            "jamiller.\n"
          ]
        }
      ]
    },
    {
      "cell_type": "code",
      "source": [],
      "metadata": {
        "id": "M8474Evao6ay"
      },
      "execution_count": null,
      "outputs": []
    }
  ]
}