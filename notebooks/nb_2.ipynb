{
  "nbformat": 4,
  "nbformat_minor": 0,
  "metadata": {
    "colab": {
      "provenance": []
    },
    "kernelspec": {
      "name": "python3",
      "display_name": "Python 3"
    },
    "language_info": {
      "name": "python"
    }
  },
  "cells": [
    {
      "cell_type": "code",
      "execution_count": 1,
      "metadata": {
        "id": "la1RkCJP6avU"
      },
      "outputs": [],
      "source": [
        "import torch\n",
        "import torch.nn.functional as F\n",
        "\n",
        "import matplotlib.pyplot as plt\n",
        "%matplotlib inline"
      ]
    },
    {
      "cell_type": "code",
      "source": [
        "# read in all the words\n",
        "words = open('names.txt', 'r').read().splitlines()\n",
        "words[:10], len(words)"
      ],
      "metadata": {
        "colab": {
          "base_uri": "https://localhost:8080/"
        },
        "id": "gsEpd_gu6ykl",
        "outputId": "02eac765-e961-4a88-c5da-74d061631809"
      },
      "execution_count": 3,
      "outputs": [
        {
          "output_type": "execute_result",
          "data": {
            "text/plain": [
              "(['emma',\n",
              "  'olivia',\n",
              "  'ava',\n",
              "  'isabella',\n",
              "  'sophia',\n",
              "  'charlotte',\n",
              "  'mia',\n",
              "  'amelia',\n",
              "  'harper',\n",
              "  'evelyn'],\n",
              " 32033)"
            ]
          },
          "metadata": {},
          "execution_count": 3
        }
      ]
    },
    {
      "cell_type": "code",
      "source": [
        "# build the vocabulary of characters and mappings to/from integers\n",
        "chars = sorted(list(set(''.join(words))))\n",
        "stoi = {s:i+1 for i, s in enumerate(chars)}\n",
        "stoi['.'] = 0\n",
        "itos = {i:s for s, i in stoi.items()}\n",
        "itos"
      ],
      "metadata": {
        "colab": {
          "base_uri": "https://localhost:8080/"
        },
        "id": "eJnev0KJ7GmD",
        "outputId": "71c22c44-34a3-4db2-af7c-a68c86dcc3ae"
      },
      "execution_count": 4,
      "outputs": [
        {
          "output_type": "execute_result",
          "data": {
            "text/plain": [
              "{1: 'a',\n",
              " 2: 'b',\n",
              " 3: 'c',\n",
              " 4: 'd',\n",
              " 5: 'e',\n",
              " 6: 'f',\n",
              " 7: 'g',\n",
              " 8: 'h',\n",
              " 9: 'i',\n",
              " 10: 'j',\n",
              " 11: 'k',\n",
              " 12: 'l',\n",
              " 13: 'm',\n",
              " 14: 'n',\n",
              " 15: 'o',\n",
              " 16: 'p',\n",
              " 17: 'q',\n",
              " 18: 'r',\n",
              " 19: 's',\n",
              " 20: 't',\n",
              " 21: 'u',\n",
              " 22: 'v',\n",
              " 23: 'w',\n",
              " 24: 'x',\n",
              " 25: 'y',\n",
              " 26: 'z',\n",
              " 0: '.'}"
            ]
          },
          "metadata": {},
          "execution_count": 4
        }
      ]
    },
    {
      "cell_type": "code",
      "source": [
        "# build the dataset\n",
        "\n",
        "block_size = 3 # context length: how many characters do we take to predict the next one?\n",
        "X, Y = [], []\n",
        "\n",
        "for w in words:\n",
        "\n",
        "  # print(w)\n",
        "  context = [0] * block_size\n",
        "  for ch in w + '.':\n",
        "    ix = stoi[ch]\n",
        "    X.append(context)\n",
        "    Y.append(ix)\n",
        "    # print(''.join(itos[i] for i in context), '--->', itos[ix])\n",
        "    context = context[1:] + [ix] # crop and append\n",
        "\n",
        "X = torch.tensor(X)\n",
        "Y = torch.tensor(Y)"
      ],
      "metadata": {
        "id": "12CbQpdo7cJo"
      },
      "execution_count": 59,
      "outputs": []
    },
    {
      "cell_type": "code",
      "source": [
        "# for x, y in zip(X, Y):\n",
        "#   print(x, '->', y.item())"
      ],
      "metadata": {
        "id": "NJHU52BL8NqK"
      },
      "execution_count": 6,
      "outputs": []
    },
    {
      "cell_type": "code",
      "source": [
        "X.shape, X.dtype, Y.shape, Y.dtype"
      ],
      "metadata": {
        "colab": {
          "base_uri": "https://localhost:8080/"
        },
        "id": "cZ9MVfm-9Qbe",
        "outputId": "ebcf355a-9daa-40ef-c7bd-a748d88a9a1b"
      },
      "execution_count": 7,
      "outputs": [
        {
          "output_type": "execute_result",
          "data": {
            "text/plain": [
              "(torch.Size([32, 3]), torch.int64, torch.Size([32]), torch.int64)"
            ]
          },
          "metadata": {},
          "execution_count": 7
        }
      ]
    },
    {
      "cell_type": "code",
      "source": [
        "C = torch.randn((27, 2)) # each of the 27 characters will have a 2 dimensional embedding"
      ],
      "metadata": {
        "id": "suq_7Mp99kJV"
      },
      "execution_count": 8,
      "outputs": []
    },
    {
      "cell_type": "code",
      "source": [
        "C[5]"
      ],
      "metadata": {
        "colab": {
          "base_uri": "https://localhost:8080/"
        },
        "id": "GmgRZNs897sf",
        "outputId": "e86ce7b4-40d8-4c31-a4ed-2140d0edd10c"
      },
      "execution_count": 9,
      "outputs": [
        {
          "output_type": "execute_result",
          "data": {
            "text/plain": [
              "tensor([ 0.0356, -0.1503])"
            ]
          },
          "metadata": {},
          "execution_count": 9
        }
      ]
    },
    {
      "cell_type": "code",
      "source": [
        "F.one_hot(torch.tensor(5), num_classes=27).float() @ C"
      ],
      "metadata": {
        "colab": {
          "base_uri": "https://localhost:8080/"
        },
        "id": "Fqy2zqVU98a2",
        "outputId": "cc1d1d70-c791-416d-ba20-f4b9ba053206"
      },
      "execution_count": 10,
      "outputs": [
        {
          "output_type": "execute_result",
          "data": {
            "text/plain": [
              "tensor([ 0.0356, -0.1503])"
            ]
          },
          "metadata": {},
          "execution_count": 10
        }
      ]
    },
    {
      "cell_type": "code",
      "source": [
        "# (1 * 27) @ (27 * 2) -> 1 * 2"
      ],
      "metadata": {
        "id": "kHk1yF34-JPO"
      },
      "execution_count": 11,
      "outputs": []
    },
    {
      "cell_type": "code",
      "source": [
        "C[[5, 6, 7]]"
      ],
      "metadata": {
        "colab": {
          "base_uri": "https://localhost:8080/"
        },
        "id": "z1-_NOyl-zfq",
        "outputId": "c7d0ad65-d868-4026-9963-f3f7b2c4c366"
      },
      "execution_count": 12,
      "outputs": [
        {
          "output_type": "execute_result",
          "data": {
            "text/plain": [
              "tensor([[ 0.0356, -0.1503],\n",
              "        [-0.4798,  1.2005],\n",
              "        [ 0.0516,  2.4316]])"
            ]
          },
          "metadata": {},
          "execution_count": 12
        }
      ]
    },
    {
      "cell_type": "code",
      "source": [
        "F.one_hot(torch.tensor([5, 6, 7]), num_classes=27).float() @ C"
      ],
      "metadata": {
        "colab": {
          "base_uri": "https://localhost:8080/"
        },
        "id": "a5_PR8S5-1r3",
        "outputId": "b7d69c43-355b-49a0-f4e1-b2501384540e"
      },
      "execution_count": 13,
      "outputs": [
        {
          "output_type": "execute_result",
          "data": {
            "text/plain": [
              "tensor([[ 0.0356, -0.1503],\n",
              "        [-0.4798,  1.2005],\n",
              "        [ 0.0516,  2.4316]])"
            ]
          },
          "metadata": {},
          "execution_count": 13
        }
      ]
    },
    {
      "cell_type": "code",
      "source": [
        "X, X.shape"
      ],
      "metadata": {
        "colab": {
          "base_uri": "https://localhost:8080/"
        },
        "id": "CDgCEOh8_APt",
        "outputId": "35593d1e-4de0-4f39-92dd-fbe134f6277f"
      },
      "execution_count": 14,
      "outputs": [
        {
          "output_type": "execute_result",
          "data": {
            "text/plain": [
              "(tensor([[ 0,  0,  0],\n",
              "         [ 0,  0,  5],\n",
              "         [ 0,  5, 13],\n",
              "         [ 5, 13, 13],\n",
              "         [13, 13,  1],\n",
              "         [ 0,  0,  0],\n",
              "         [ 0,  0, 15],\n",
              "         [ 0, 15, 12],\n",
              "         [15, 12,  9],\n",
              "         [12,  9, 22],\n",
              "         [ 9, 22,  9],\n",
              "         [22,  9,  1],\n",
              "         [ 0,  0,  0],\n",
              "         [ 0,  0,  1],\n",
              "         [ 0,  1, 22],\n",
              "         [ 1, 22,  1],\n",
              "         [ 0,  0,  0],\n",
              "         [ 0,  0,  9],\n",
              "         [ 0,  9, 19],\n",
              "         [ 9, 19,  1],\n",
              "         [19,  1,  2],\n",
              "         [ 1,  2,  5],\n",
              "         [ 2,  5, 12],\n",
              "         [ 5, 12, 12],\n",
              "         [12, 12,  1],\n",
              "         [ 0,  0,  0],\n",
              "         [ 0,  0, 19],\n",
              "         [ 0, 19, 15],\n",
              "         [19, 15, 16],\n",
              "         [15, 16,  8],\n",
              "         [16,  8,  9],\n",
              "         [ 8,  9,  1]]),\n",
              " torch.Size([32, 3]))"
            ]
          },
          "metadata": {},
          "execution_count": 14
        }
      ]
    },
    {
      "cell_type": "code",
      "source": [
        "C[X], C[X].shape"
      ],
      "metadata": {
        "colab": {
          "base_uri": "https://localhost:8080/"
        },
        "id": "lOQtJ4Ih_IbQ",
        "outputId": "38a4d6ed-7e5f-4313-e267-d3a62e5662dd"
      },
      "execution_count": 15,
      "outputs": [
        {
          "output_type": "execute_result",
          "data": {
            "text/plain": [
              "(tensor([[[-1.4572,  2.0120],\n",
              "          [-1.4572,  2.0120],\n",
              "          [-1.4572,  2.0120]],\n",
              " \n",
              "         [[-1.4572,  2.0120],\n",
              "          [-1.4572,  2.0120],\n",
              "          [ 0.0356, -0.1503]],\n",
              " \n",
              "         [[-1.4572,  2.0120],\n",
              "          [ 0.0356, -0.1503],\n",
              "          [-1.6210, -0.8542]],\n",
              " \n",
              "         [[ 0.0356, -0.1503],\n",
              "          [-1.6210, -0.8542],\n",
              "          [-1.6210, -0.8542]],\n",
              " \n",
              "         [[-1.6210, -0.8542],\n",
              "          [-1.6210, -0.8542],\n",
              "          [ 0.6297,  0.9300]],\n",
              " \n",
              "         [[-1.4572,  2.0120],\n",
              "          [-1.4572,  2.0120],\n",
              "          [-1.4572,  2.0120]],\n",
              " \n",
              "         [[-1.4572,  2.0120],\n",
              "          [-1.4572,  2.0120],\n",
              "          [ 0.3715, -0.4987]],\n",
              " \n",
              "         [[-1.4572,  2.0120],\n",
              "          [ 0.3715, -0.4987],\n",
              "          [-1.3022,  0.2746]],\n",
              " \n",
              "         [[ 0.3715, -0.4987],\n",
              "          [-1.3022,  0.2746],\n",
              "          [-0.2325,  1.1563]],\n",
              " \n",
              "         [[-1.3022,  0.2746],\n",
              "          [-0.2325,  1.1563],\n",
              "          [-0.4916,  2.0506]],\n",
              " \n",
              "         [[-0.2325,  1.1563],\n",
              "          [-0.4916,  2.0506],\n",
              "          [-0.2325,  1.1563]],\n",
              " \n",
              "         [[-0.4916,  2.0506],\n",
              "          [-0.2325,  1.1563],\n",
              "          [ 0.6297,  0.9300]],\n",
              " \n",
              "         [[-1.4572,  2.0120],\n",
              "          [-1.4572,  2.0120],\n",
              "          [-1.4572,  2.0120]],\n",
              " \n",
              "         [[-1.4572,  2.0120],\n",
              "          [-1.4572,  2.0120],\n",
              "          [ 0.6297,  0.9300]],\n",
              " \n",
              "         [[-1.4572,  2.0120],\n",
              "          [ 0.6297,  0.9300],\n",
              "          [-0.4916,  2.0506]],\n",
              " \n",
              "         [[ 0.6297,  0.9300],\n",
              "          [-0.4916,  2.0506],\n",
              "          [ 0.6297,  0.9300]],\n",
              " \n",
              "         [[-1.4572,  2.0120],\n",
              "          [-1.4572,  2.0120],\n",
              "          [-1.4572,  2.0120]],\n",
              " \n",
              "         [[-1.4572,  2.0120],\n",
              "          [-1.4572,  2.0120],\n",
              "          [-0.2325,  1.1563]],\n",
              " \n",
              "         [[-1.4572,  2.0120],\n",
              "          [-0.2325,  1.1563],\n",
              "          [ 2.5608, -0.7917]],\n",
              " \n",
              "         [[-0.2325,  1.1563],\n",
              "          [ 2.5608, -0.7917],\n",
              "          [ 0.6297,  0.9300]],\n",
              " \n",
              "         [[ 2.5608, -0.7917],\n",
              "          [ 0.6297,  0.9300],\n",
              "          [ 0.5122, -1.2531]],\n",
              " \n",
              "         [[ 0.6297,  0.9300],\n",
              "          [ 0.5122, -1.2531],\n",
              "          [ 0.0356, -0.1503]],\n",
              " \n",
              "         [[ 0.5122, -1.2531],\n",
              "          [ 0.0356, -0.1503],\n",
              "          [-1.3022,  0.2746]],\n",
              " \n",
              "         [[ 0.0356, -0.1503],\n",
              "          [-1.3022,  0.2746],\n",
              "          [-1.3022,  0.2746]],\n",
              " \n",
              "         [[-1.3022,  0.2746],\n",
              "          [-1.3022,  0.2746],\n",
              "          [ 0.6297,  0.9300]],\n",
              " \n",
              "         [[-1.4572,  2.0120],\n",
              "          [-1.4572,  2.0120],\n",
              "          [-1.4572,  2.0120]],\n",
              " \n",
              "         [[-1.4572,  2.0120],\n",
              "          [-1.4572,  2.0120],\n",
              "          [ 2.5608, -0.7917]],\n",
              " \n",
              "         [[-1.4572,  2.0120],\n",
              "          [ 2.5608, -0.7917],\n",
              "          [ 0.3715, -0.4987]],\n",
              " \n",
              "         [[ 2.5608, -0.7917],\n",
              "          [ 0.3715, -0.4987],\n",
              "          [ 0.9597, -2.0050]],\n",
              " \n",
              "         [[ 0.3715, -0.4987],\n",
              "          [ 0.9597, -2.0050],\n",
              "          [ 0.4210, -0.1847]],\n",
              " \n",
              "         [[ 0.9597, -2.0050],\n",
              "          [ 0.4210, -0.1847],\n",
              "          [-0.2325,  1.1563]],\n",
              " \n",
              "         [[ 0.4210, -0.1847],\n",
              "          [-0.2325,  1.1563],\n",
              "          [ 0.6297,  0.9300]]]),\n",
              " torch.Size([32, 3, 2]))"
            ]
          },
          "metadata": {},
          "execution_count": 15
        }
      ]
    },
    {
      "cell_type": "code",
      "source": [
        "X[13, 2]"
      ],
      "metadata": {
        "colab": {
          "base_uri": "https://localhost:8080/"
        },
        "id": "ZckFOBW0_TEi",
        "outputId": "cbb8d711-8fa4-4581-f468-ae28e04423b1"
      },
      "execution_count": 16,
      "outputs": [
        {
          "output_type": "execute_result",
          "data": {
            "text/plain": [
              "tensor(1)"
            ]
          },
          "metadata": {},
          "execution_count": 16
        }
      ]
    },
    {
      "cell_type": "code",
      "source": [
        "C[X][13, 2]"
      ],
      "metadata": {
        "colab": {
          "base_uri": "https://localhost:8080/"
        },
        "id": "GoByWMx3_iEX",
        "outputId": "3510751c-f416-4519-e412-381d07e91146"
      },
      "execution_count": 17,
      "outputs": [
        {
          "output_type": "execute_result",
          "data": {
            "text/plain": [
              "tensor([0.6297, 0.9300])"
            ]
          },
          "metadata": {},
          "execution_count": 17
        }
      ]
    },
    {
      "cell_type": "code",
      "source": [
        "emb = C[X]\n",
        "emb.shape"
      ],
      "metadata": {
        "colab": {
          "base_uri": "https://localhost:8080/"
        },
        "id": "dPx397fp_q81",
        "outputId": "61d70e6d-25e9-487a-e435-0904783afee2"
      },
      "execution_count": 18,
      "outputs": [
        {
          "output_type": "execute_result",
          "data": {
            "text/plain": [
              "torch.Size([32, 3, 2])"
            ]
          },
          "metadata": {},
          "execution_count": 18
        }
      ]
    },
    {
      "cell_type": "code",
      "source": [
        "W1 = torch.randn((6, 100))\n",
        "b1 = torch.randn(100)      # 6 = 2 * 3, 100 is the number of neurons"
      ],
      "metadata": {
        "id": "VC_ehWA-__gg"
      },
      "execution_count": 19,
      "outputs": []
    },
    {
      "cell_type": "code",
      "source": [
        "# emb @ W1 + b1"
      ],
      "metadata": {
        "id": "JxjLUsyLAdbj"
      },
      "execution_count": 20,
      "outputs": []
    },
    {
      "cell_type": "code",
      "source": [
        "torch.cat([emb[:, 0, :], emb[:, 1, :], emb[:, 2, :]], dim=1).shape"
      ],
      "metadata": {
        "colab": {
          "base_uri": "https://localhost:8080/"
        },
        "id": "NdOnsLakAjft",
        "outputId": "8457b8ae-0183-41bd-a3ee-0f4043d685ce"
      },
      "execution_count": 21,
      "outputs": [
        {
          "output_type": "execute_result",
          "data": {
            "text/plain": [
              "torch.Size([32, 6])"
            ]
          },
          "metadata": {},
          "execution_count": 21
        }
      ]
    },
    {
      "cell_type": "code",
      "source": [
        "torch.cat(torch.unbind(emb, 1), 1).shape"
      ],
      "metadata": {
        "colab": {
          "base_uri": "https://localhost:8080/"
        },
        "id": "UYKFL_94A8EY",
        "outputId": "85f4f929-74a2-4c6c-ada1-a691eeffc4c4"
      },
      "execution_count": 22,
      "outputs": [
        {
          "output_type": "execute_result",
          "data": {
            "text/plain": [
              "torch.Size([32, 6])"
            ]
          },
          "metadata": {},
          "execution_count": 22
        }
      ]
    },
    {
      "cell_type": "code",
      "source": [
        "a = torch.arange(18)\n",
        "a.shape"
      ],
      "metadata": {
        "colab": {
          "base_uri": "https://localhost:8080/"
        },
        "id": "_0bGiNv_BdmA",
        "outputId": "146499ab-679a-4f10-9f56-35b716056167"
      },
      "execution_count": 23,
      "outputs": [
        {
          "output_type": "execute_result",
          "data": {
            "text/plain": [
              "torch.Size([18])"
            ]
          },
          "metadata": {},
          "execution_count": 23
        }
      ]
    },
    {
      "cell_type": "code",
      "source": [
        "a.view(3, 3, 2)"
      ],
      "metadata": {
        "colab": {
          "base_uri": "https://localhost:8080/"
        },
        "id": "7jq4gvmpByG3",
        "outputId": "437fb694-884d-410d-ff72-b440ecdb7054"
      },
      "execution_count": 24,
      "outputs": [
        {
          "output_type": "execute_result",
          "data": {
            "text/plain": [
              "tensor([[[ 0,  1],\n",
              "         [ 2,  3],\n",
              "         [ 4,  5]],\n",
              "\n",
              "        [[ 6,  7],\n",
              "         [ 8,  9],\n",
              "         [10, 11]],\n",
              "\n",
              "        [[12, 13],\n",
              "         [14, 15],\n",
              "         [16, 17]]])"
            ]
          },
          "metadata": {},
          "execution_count": 24
        }
      ]
    },
    {
      "cell_type": "code",
      "source": [
        "a.storage(), a.untyped_storage()"
      ],
      "metadata": {
        "colab": {
          "base_uri": "https://localhost:8080/"
        },
        "id": "pkC6FrysB2b7",
        "outputId": "2a2a4f45-7beb-41d3-b232-76b7a931be93"
      },
      "execution_count": 25,
      "outputs": [
        {
          "output_type": "stream",
          "name": "stderr",
          "text": [
            "<ipython-input-25-74963e578f9d>:1: UserWarning: TypedStorage is deprecated. It will be removed in the future and UntypedStorage will be the only storage class. This should only matter to you if you are using storages directly.  To access UntypedStorage directly, use tensor.untyped_storage() instead of tensor.storage()\n",
            "  a.storage(), a.untyped_storage()\n"
          ]
        },
        {
          "output_type": "execute_result",
          "data": {
            "text/plain": [
              "( 0\n",
              "  1\n",
              "  2\n",
              "  3\n",
              "  4\n",
              "  5\n",
              "  6\n",
              "  7\n",
              "  8\n",
              "  9\n",
              "  10\n",
              "  11\n",
              "  12\n",
              "  13\n",
              "  14\n",
              "  15\n",
              "  16\n",
              "  17\n",
              " [torch.storage.TypedStorage(dtype=torch.int64, device=cpu) of size 18],\n",
              "  0\n",
              "  0\n",
              "  0\n",
              "  0\n",
              "  0\n",
              "  0\n",
              "  0\n",
              "  0\n",
              "  1\n",
              "  0\n",
              "  0\n",
              "  0\n",
              "  0\n",
              "  0\n",
              "  0\n",
              "  0\n",
              "  2\n",
              "  0\n",
              "  0\n",
              "  0\n",
              "  0\n",
              "  0\n",
              "  0\n",
              "  0\n",
              "  3\n",
              "  0\n",
              "  0\n",
              "  0\n",
              "  0\n",
              "  0\n",
              "  0\n",
              "  0\n",
              "  4\n",
              "  0\n",
              "  0\n",
              "  0\n",
              "  0\n",
              "  0\n",
              "  0\n",
              "  0\n",
              "  5\n",
              "  0\n",
              "  0\n",
              "  0\n",
              "  0\n",
              "  0\n",
              "  0\n",
              "  0\n",
              "  6\n",
              "  0\n",
              "  0\n",
              "  0\n",
              "  0\n",
              "  0\n",
              "  0\n",
              "  0\n",
              "  7\n",
              "  0\n",
              "  0\n",
              "  0\n",
              "  0\n",
              "  0\n",
              "  0\n",
              "  0\n",
              "  8\n",
              "  0\n",
              "  0\n",
              "  0\n",
              "  0\n",
              "  0\n",
              "  0\n",
              "  0\n",
              "  9\n",
              "  0\n",
              "  0\n",
              "  0\n",
              "  0\n",
              "  0\n",
              "  0\n",
              "  0\n",
              "  10\n",
              "  0\n",
              "  0\n",
              "  0\n",
              "  0\n",
              "  0\n",
              "  0\n",
              "  0\n",
              "  11\n",
              "  0\n",
              "  0\n",
              "  0\n",
              "  0\n",
              "  0\n",
              "  0\n",
              "  0\n",
              "  12\n",
              "  0\n",
              "  0\n",
              "  0\n",
              "  0\n",
              "  0\n",
              "  0\n",
              "  0\n",
              "  13\n",
              "  0\n",
              "  0\n",
              "  0\n",
              "  0\n",
              "  0\n",
              "  0\n",
              "  0\n",
              "  14\n",
              "  0\n",
              "  0\n",
              "  0\n",
              "  0\n",
              "  0\n",
              "  0\n",
              "  0\n",
              "  15\n",
              "  0\n",
              "  0\n",
              "  0\n",
              "  0\n",
              "  0\n",
              "  0\n",
              "  0\n",
              "  16\n",
              "  0\n",
              "  0\n",
              "  0\n",
              "  0\n",
              "  0\n",
              "  0\n",
              "  0\n",
              "  17\n",
              "  0\n",
              "  0\n",
              "  0\n",
              "  0\n",
              "  0\n",
              "  0\n",
              "  0\n",
              " [torch.storage.UntypedStorage(device=cpu) of size 144])"
            ]
          },
          "metadata": {},
          "execution_count": 25
        }
      ]
    },
    {
      "cell_type": "code",
      "source": [
        "emb.view(32, 6) == torch.cat(torch.unbind(emb, 1), 1)"
      ],
      "metadata": {
        "colab": {
          "base_uri": "https://localhost:8080/"
        },
        "id": "bO3vtOxZB9Ly",
        "outputId": "b875cd1f-e6fe-460c-f767-29ee16274dc0"
      },
      "execution_count": 26,
      "outputs": [
        {
          "output_type": "execute_result",
          "data": {
            "text/plain": [
              "tensor([[True, True, True, True, True, True],\n",
              "        [True, True, True, True, True, True],\n",
              "        [True, True, True, True, True, True],\n",
              "        [True, True, True, True, True, True],\n",
              "        [True, True, True, True, True, True],\n",
              "        [True, True, True, True, True, True],\n",
              "        [True, True, True, True, True, True],\n",
              "        [True, True, True, True, True, True],\n",
              "        [True, True, True, True, True, True],\n",
              "        [True, True, True, True, True, True],\n",
              "        [True, True, True, True, True, True],\n",
              "        [True, True, True, True, True, True],\n",
              "        [True, True, True, True, True, True],\n",
              "        [True, True, True, True, True, True],\n",
              "        [True, True, True, True, True, True],\n",
              "        [True, True, True, True, True, True],\n",
              "        [True, True, True, True, True, True],\n",
              "        [True, True, True, True, True, True],\n",
              "        [True, True, True, True, True, True],\n",
              "        [True, True, True, True, True, True],\n",
              "        [True, True, True, True, True, True],\n",
              "        [True, True, True, True, True, True],\n",
              "        [True, True, True, True, True, True],\n",
              "        [True, True, True, True, True, True],\n",
              "        [True, True, True, True, True, True],\n",
              "        [True, True, True, True, True, True],\n",
              "        [True, True, True, True, True, True],\n",
              "        [True, True, True, True, True, True],\n",
              "        [True, True, True, True, True, True],\n",
              "        [True, True, True, True, True, True],\n",
              "        [True, True, True, True, True, True],\n",
              "        [True, True, True, True, True, True]])"
            ]
          },
          "metadata": {},
          "execution_count": 26
        }
      ]
    },
    {
      "cell_type": "code",
      "source": [
        "h = emb.view(emb.shape[0], 6) @ W1 + b1\n",
        "# h = emb.view(-1, 6) @ W1 + b1"
      ],
      "metadata": {
        "id": "UP6e4PVlCTIu"
      },
      "execution_count": 27,
      "outputs": []
    },
    {
      "cell_type": "code",
      "source": [
        "h.shape"
      ],
      "metadata": {
        "colab": {
          "base_uri": "https://localhost:8080/"
        },
        "id": "4KTtye9sCj4z",
        "outputId": "1f75faf7-fe9a-4ae0-c266-c7422e331c88"
      },
      "execution_count": 28,
      "outputs": [
        {
          "output_type": "execute_result",
          "data": {
            "text/plain": [
              "torch.Size([32, 100])"
            ]
          },
          "metadata": {},
          "execution_count": 28
        }
      ]
    },
    {
      "cell_type": "code",
      "source": [
        "h"
      ],
      "metadata": {
        "colab": {
          "base_uri": "https://localhost:8080/"
        },
        "id": "Kwo8b7cxCksf",
        "outputId": "6131f775-c5d6-4a3a-a3ad-ea229b266e26"
      },
      "execution_count": 29,
      "outputs": [
        {
          "output_type": "execute_result",
          "data": {
            "text/plain": [
              "tensor([[-5.3221, -6.1432,  6.2222,  ...,  3.5283, -3.5686,  2.2217],\n",
              "        [-5.1802, -1.3196,  5.0880,  ...,  0.6462, -3.9298,  2.9416],\n",
              "        [-3.2416, -1.9303,  7.1853,  ...,  0.8145, -1.3242,  4.1293],\n",
              "        ...,\n",
              "        [ 1.6858,  2.3188,  0.3882,  ...,  1.1542,  1.1817, -0.6233],\n",
              "        [ 0.3988, -0.5593, -1.8832,  ...,  1.7920,  2.9210, -1.5235],\n",
              "        [-1.4290,  0.5441, -0.8013,  ...,  0.0119, -2.0200, -1.3211]])"
            ]
          },
          "metadata": {},
          "execution_count": 29
        }
      ]
    },
    {
      "cell_type": "code",
      "source": [
        "h = torch.tanh(emb.view(-1, 6) @ W1 + b1)"
      ],
      "metadata": {
        "id": "1cfpy3D3ClW_"
      },
      "execution_count": 30,
      "outputs": []
    },
    {
      "cell_type": "code",
      "source": [
        "h"
      ],
      "metadata": {
        "colab": {
          "base_uri": "https://localhost:8080/"
        },
        "id": "Uj_BRnDiC-DT",
        "outputId": "df7ec5eb-51be-47ec-8662-a887935ca990"
      },
      "execution_count": 31,
      "outputs": [
        {
          "output_type": "execute_result",
          "data": {
            "text/plain": [
              "tensor([[-1.0000, -1.0000,  1.0000,  ...,  0.9983, -0.9984,  0.9768],\n",
              "        [-0.9999, -0.8667,  0.9999,  ...,  0.5691, -0.9992,  0.9944],\n",
              "        [-0.9969, -0.9588,  1.0000,  ...,  0.6721, -0.8678,  0.9995],\n",
              "        ...,\n",
              "        [ 0.9336,  0.9808,  0.3698,  ...,  0.8192,  0.8280, -0.5534],\n",
              "        [ 0.3789, -0.5074, -0.9548,  ...,  0.9460,  0.9942, -0.9093],\n",
              "        [-0.8915,  0.4961, -0.6648,  ...,  0.0119, -0.9654, -0.8671]])"
            ]
          },
          "metadata": {},
          "execution_count": 31
        }
      ]
    },
    {
      "cell_type": "code",
      "source": [
        "h.shape"
      ],
      "metadata": {
        "colab": {
          "base_uri": "https://localhost:8080/"
        },
        "id": "kCamMp8JDAAW",
        "outputId": "82295690-7cff-4478-f838-9e256259f6af"
      },
      "execution_count": 32,
      "outputs": [
        {
          "output_type": "execute_result",
          "data": {
            "text/plain": [
              "torch.Size([32, 100])"
            ]
          },
          "metadata": {},
          "execution_count": 32
        }
      ]
    },
    {
      "cell_type": "code",
      "source": [
        "(emb.view(-1, 6) @ W1).shape, b1.shape"
      ],
      "metadata": {
        "colab": {
          "base_uri": "https://localhost:8080/"
        },
        "id": "jV8ITa83DBwA",
        "outputId": "68e74368-0f1d-46d9-f3b0-cf1119350455"
      },
      "execution_count": 33,
      "outputs": [
        {
          "output_type": "execute_result",
          "data": {
            "text/plain": [
              "(torch.Size([32, 100]), torch.Size([100]))"
            ]
          },
          "metadata": {},
          "execution_count": 33
        }
      ]
    },
    {
      "cell_type": "code",
      "source": [
        "# 32 100\n",
        "# 1  100"
      ],
      "metadata": {
        "id": "ifxxqGzuDJjg"
      },
      "execution_count": 34,
      "outputs": []
    },
    {
      "cell_type": "code",
      "source": [
        "W2 = torch.randn((100, 27))\n",
        "b2 = torch.randn(27)"
      ],
      "metadata": {
        "id": "2VXEgn5nDVoW"
      },
      "execution_count": 35,
      "outputs": []
    },
    {
      "cell_type": "code",
      "source": [
        "logits = h @ W2 + b2\n",
        "logits.shape"
      ],
      "metadata": {
        "colab": {
          "base_uri": "https://localhost:8080/"
        },
        "id": "8wn-WfDIDuAF",
        "outputId": "32312e62-8f05-46ae-adb5-bc81745e00e5"
      },
      "execution_count": 36,
      "outputs": [
        {
          "output_type": "execute_result",
          "data": {
            "text/plain": [
              "torch.Size([32, 27])"
            ]
          },
          "metadata": {},
          "execution_count": 36
        }
      ]
    },
    {
      "cell_type": "code",
      "source": [
        "logits"
      ],
      "metadata": {
        "colab": {
          "base_uri": "https://localhost:8080/"
        },
        "id": "D9t9U2wFDwx1",
        "outputId": "fdd940c2-5215-4a07-904e-76d86677d908"
      },
      "execution_count": 37,
      "outputs": [
        {
          "output_type": "execute_result",
          "data": {
            "text/plain": [
              "tensor([[-1.0035e+01, -1.3069e+01,  1.6312e+00, -7.7778e+00, -1.1878e+01,\n",
              "          1.5836e+01,  7.3069e+00, -3.8401e+00,  5.4446e+00,  1.7312e+01,\n",
              "         -7.8870e+00,  4.8268e+00,  9.9519e+00, -1.5737e+01,  1.1791e+00,\n",
              "          6.7266e+00,  9.1555e+00, -1.0624e+01,  5.0762e+00,  1.2115e+01,\n",
              "          9.1766e+00,  6.3921e+00,  1.5726e+00, -1.0778e+01,  4.2149e+00,\n",
              "          1.6092e+01, -1.5979e+01],\n",
              "        [ 2.7592e+00,  1.3634e+01,  1.7497e+01, -7.1199e+00, -1.2248e+01,\n",
              "          2.2871e+01,  1.8627e+00, -1.4504e+01,  1.0235e+01,  1.6071e+01,\n",
              "          4.6268e+00,  1.0074e+00,  1.5162e+01, -5.9869e+00,  4.6985e+00,\n",
              "         -5.4770e+00,  5.0941e+00,  1.2023e+00,  5.5409e+00,  2.9111e+00,\n",
              "          6.9465e+00,  9.6630e-01, -8.5900e+00, -1.3010e+00,  5.5868e+00,\n",
              "          1.1267e+01, -1.8992e+01],\n",
              "        [-7.6813e+00, -6.3442e+00,  1.0929e+01, -3.5826e+00, -8.9610e+00,\n",
              "          2.2714e+00, -1.6937e+00, -1.3010e+01,  4.5236e+00,  1.1146e+00,\n",
              "          1.0980e+00,  7.1815e+00, -3.7662e-01,  5.4370e+00,  3.9282e+00,\n",
              "         -2.1151e+00, -3.9180e-01, -2.0430e+00,  4.3738e+00, -9.6598e+00,\n",
              "          4.1979e+00, -1.8660e+01, -8.6371e+00, -1.0778e+01, -1.6254e+00,\n",
              "          1.0652e+01, -8.7953e+00],\n",
              "        [ 4.9254e-02,  1.9849e+00,  1.7822e+01, -1.0342e+01,  4.3827e+00,\n",
              "         -8.5320e+00,  2.9979e+00, -4.3281e+00, -8.3232e+00,  4.7390e+00,\n",
              "          7.8406e+00, -7.5385e+00,  1.6476e+01, -7.5540e-01,  2.1942e+00,\n",
              "         -5.9485e+00,  1.1283e+01,  1.0198e+01,  1.5118e+01, -5.0266e+00,\n",
              "         -3.4152e+00, -2.0070e+01, -7.0780e+00, -2.6739e-01, -7.2715e+00,\n",
              "         -7.1562e+00, -1.0028e+00],\n",
              "        [ 4.1047e+00,  6.1292e+00,  1.0647e+01, -6.3094e+00, -3.9591e-01,\n",
              "          5.9810e+00,  7.9027e+00,  5.4269e+00,  3.5289e+00,  3.0918e+00,\n",
              "         -5.4008e-01, -1.7069e+00,  7.1268e+00, -1.4351e+01,  5.6916e+00,\n",
              "          5.3883e+00,  4.4942e+00, -1.6721e+01,  2.9949e+00,  1.1052e+01,\n",
              "         -1.1395e+01, -6.6733e+00, -3.2742e+00, -1.0911e+00, -9.8118e-01,\n",
              "          7.8848e+00, -9.9561e+00],\n",
              "        [-1.0035e+01, -1.3069e+01,  1.6312e+00, -7.7778e+00, -1.1878e+01,\n",
              "          1.5836e+01,  7.3069e+00, -3.8401e+00,  5.4446e+00,  1.7312e+01,\n",
              "         -7.8870e+00,  4.8268e+00,  9.9519e+00, -1.5737e+01,  1.1791e+00,\n",
              "          6.7266e+00,  9.1555e+00, -1.0624e+01,  5.0762e+00,  1.2115e+01,\n",
              "          9.1766e+00,  6.3921e+00,  1.5726e+00, -1.0778e+01,  4.2149e+00,\n",
              "          1.6092e+01, -1.5979e+01],\n",
              "        [ 2.8086e+00,  1.7884e+01,  1.9796e+01, -6.0222e+00, -1.0589e+01,\n",
              "          2.0758e+01,  3.1211e+00, -1.0985e+01,  9.2306e+00,  1.0450e+01,\n",
              "          5.8471e+00, -9.3891e-02,  1.5434e+01, -5.6678e+00,  6.6925e+00,\n",
              "         -5.9745e+00,  4.9558e+00, -5.0735e-01,  4.9878e+00,  2.8520e+00,\n",
              "          5.7356e+00,  2.3432e+00, -8.0823e+00, -2.4265e+00,  4.2906e+00,\n",
              "          1.1640e+01, -1.7467e+01],\n",
              "        [-6.5797e+00, -1.0630e+01,  8.1244e+00, -1.4349e+00, -1.0720e+01,\n",
              "          2.0054e+00, -1.9739e+00, -1.0511e+01,  7.3537e+00,  3.4556e+00,\n",
              "          4.6581e+00,  5.3771e+00, -7.1914e+00,  4.5766e+00,  2.4763e+00,\n",
              "          5.5589e+00,  1.0427e+00, -5.0431e+00,  3.8488e+00, -7.4029e+00,\n",
              "          2.9666e-01, -1.9664e+01, -4.7298e+00, -1.2528e+01,  1.0769e+00,\n",
              "          1.7503e+01, -1.0754e+01],\n",
              "        [-4.7873e+00, -1.1025e+01,  5.8417e+00, -2.3031e+00, -4.7780e+00,\n",
              "          5.3027e+00,  1.3679e+01,  4.3574e-01,  4.9556e-01,  1.3928e+01,\n",
              "          1.3856e+00,  1.5639e+00,  1.0640e+01, -1.1099e+01, -4.4120e+00,\n",
              "          1.0328e+01,  2.9239e+00, -8.5736e+00,  3.1666e+00,  5.0657e+00,\n",
              "         -2.7762e+00, -3.2230e+00,  2.6124e+00,  3.6873e-01,  1.8685e+00,\n",
              "          1.2474e+01, -6.4767e+00],\n",
              "        [-1.1331e+01, -1.3871e+01,  3.5459e+00, -4.9491e+00, -1.4842e+01,\n",
              "          1.6591e+01,  1.6321e+01,  1.0808e+00,  2.8097e+00,  1.6230e+01,\n",
              "         -1.2548e+01,  9.7495e+00,  3.0181e+00, -1.6579e+01, -3.9931e+00,\n",
              "          8.3671e+00,  1.5088e+01, -1.9769e+01,  1.2899e+00,  9.5750e+00,\n",
              "         -2.2900e+00,  7.2599e+00,  1.5984e+00, -7.3950e+00,  9.2670e+00,\n",
              "          1.7166e+01, -1.8504e+01],\n",
              "        [-7.1124e+00, -1.8570e+00,  4.5796e+00, -3.8681e+00, -1.1068e+01,\n",
              "          1.4165e+01,  1.5368e+01, -4.8063e+00,  5.7203e+00,  2.1816e+01,\n",
              "          7.8707e-01,  3.4548e+00,  1.1001e+01, -1.3277e+01,  4.2145e+00,\n",
              "          9.8049e+00,  8.8836e+00, -5.1316e+00, -3.6600e+00, -2.7658e+00,\n",
              "          4.6943e+00,  4.4091e+00,  2.7272e+00, -2.9901e+00,  8.4763e+00,\n",
              "          1.8478e+01, -6.3983e+00],\n",
              "        [-2.1637e+00, -7.7374e+00,  3.5373e-01, -8.9275e+00, -1.2764e+01,\n",
              "          1.3555e+01,  4.4199e+00, -6.2325e+00,  7.1740e+00,  1.0664e+01,\n",
              "          8.2321e+00,  1.7188e+00,  1.2541e+01, -7.7263e+00,  2.9677e+00,\n",
              "          1.6201e+01,  8.9745e-01, -8.7973e+00,  1.3229e+00, -1.9293e+00,\n",
              "          9.5664e+00,  2.7419e+00,  1.1351e+01,  3.5259e+00,  4.5830e+00,\n",
              "          2.8038e+01, -4.9097e+00],\n",
              "        [-1.0035e+01, -1.3069e+01,  1.6312e+00, -7.7778e+00, -1.1878e+01,\n",
              "          1.5836e+01,  7.3069e+00, -3.8401e+00,  5.4446e+00,  1.7312e+01,\n",
              "         -7.8870e+00,  4.8268e+00,  9.9519e+00, -1.5737e+01,  1.1791e+00,\n",
              "          6.7266e+00,  9.1555e+00, -1.0624e+01,  5.0762e+00,  1.2115e+01,\n",
              "          9.1766e+00,  6.3921e+00,  1.5726e+00, -1.0778e+01,  4.2149e+00,\n",
              "          1.6092e+01, -1.5979e+01],\n",
              "        [ 9.2787e-01,  2.8035e+00,  6.5367e+00, -9.6571e+00, -1.3054e+01,\n",
              "          2.2684e+01,  4.7053e+00, -4.4815e+00,  1.2356e+01,  1.5378e+01,\n",
              "          1.4424e+00,  2.5552e+00,  1.4345e+01, -1.2866e+01,  4.0120e+00,\n",
              "         -2.7590e+00,  3.0144e+00, -7.6754e+00, -3.0442e-02,  2.0076e+00,\n",
              "          9.1994e+00,  5.2906e+00, -2.9068e+00,  6.5516e-01,  1.0284e+01,\n",
              "          1.8502e+01, -1.7646e+01],\n",
              "        [-1.0704e+01, -1.6138e+01, -8.1404e-01, -4.5402e+00, -2.0783e+01,\n",
              "          1.4822e+01,  7.9490e+00, -1.1071e+01,  8.2910e+00,  8.3944e+00,\n",
              "         -4.6289e+00,  6.9371e+00,  1.0912e+00, -1.1381e+01, -4.5461e+00,\n",
              "          1.3640e+01,  1.6344e+00, -9.7815e+00,  5.3003e+00,  1.9083e+00,\n",
              "          8.7486e+00,  1.7822e+00,  7.1147e+00, -5.9528e+00,  1.3250e+01,\n",
              "          2.3004e+01, -1.6913e+01],\n",
              "        [-1.8006e-01, -5.3514e-02, -8.6350e+00, -2.7888e+00, -1.2791e+01,\n",
              "          1.4349e+01,  1.2124e+01, -5.0750e+00,  5.8985e+00,  1.4051e+01,\n",
              "         -6.0850e-01, -2.1420e+00,  6.6548e+00, -8.6784e+00,  9.1240e+00,\n",
              "          1.2653e+01, -2.6497e-02,  2.6436e+00, -1.1655e+01, -1.2087e+00,\n",
              "         -5.9798e-01,  4.1889e+00,  8.1147e+00,  7.1656e+00,  8.1402e+00,\n",
              "          1.5316e+01,  6.7380e-01],\n",
              "        [-1.0035e+01, -1.3069e+01,  1.6312e+00, -7.7778e+00, -1.1878e+01,\n",
              "          1.5836e+01,  7.3069e+00, -3.8401e+00,  5.4446e+00,  1.7312e+01,\n",
              "         -7.8870e+00,  4.8268e+00,  9.9519e+00, -1.5737e+01,  1.1791e+00,\n",
              "          6.7266e+00,  9.1555e+00, -1.0624e+01,  5.0762e+00,  1.2115e+01,\n",
              "          9.1766e+00,  6.3921e+00,  1.5726e+00, -1.0778e+01,  4.2149e+00,\n",
              "          1.6092e+01, -1.5979e+01],\n",
              "        [-2.4335e+00, -3.2093e+00,  6.5192e+00, -8.9103e+00, -1.2497e+01,\n",
              "          1.7897e+01,  4.8780e+00, -6.2679e+00,  8.8115e+00,  1.7267e+01,\n",
              "         -1.2900e+00,  3.9711e+00,  1.4514e+01, -1.6578e+01,  4.0617e+00,\n",
              "         -5.6500e-01,  5.7842e+00, -7.5935e+00,  2.7304e+00,  1.9661e+00,\n",
              "          8.5622e+00,  5.1086e+00, -2.0680e+00, -4.5169e-01,  7.9464e+00,\n",
              "          1.7036e+01, -1.4810e+01],\n",
              "        [ 8.1267e+00,  1.6648e+01, -7.4381e-01,  5.3691e+00, -1.0348e+01,\n",
              "          1.2172e+01, -3.4075e+00, -4.9416e+00,  8.9610e+00,  4.9733e-01,\n",
              "          7.0359e+00, -1.0488e-01, -7.1512e-01,  3.8304e+00,  8.5827e+00,\n",
              "          3.4604e+00, -7.0865e-01,  1.5349e+00, -9.1677e-01,  1.0215e+01,\n",
              "         -5.9878e+00, -7.1364e+00,  5.6193e+00, -3.5905e+00, -1.4261e+00,\n",
              "          1.1748e+01,  1.7546e+00],\n",
              "        [-5.3134e-01, -9.1348e+00, -5.1155e+00, -4.7485e+00, -1.1440e+01,\n",
              "          2.1185e+00, -2.7991e+00,  5.0730e+00,  5.1641e+00, -2.9864e+00,\n",
              "          4.4751e+00,  4.4589e+00, -1.4263e+01,  8.7235e+00, -5.3846e+00,\n",
              "          1.4161e+01, -2.1630e+00, -5.2025e+00, -1.4525e+01, -2.7479e+00,\n",
              "         -2.7982e+00, -1.3644e+01,  9.5190e+00, -1.2938e+00, -5.8111e+00,\n",
              "          2.7120e+01,  7.0075e+00],\n",
              "        [-4.9513e+00,  3.0142e+00,  1.0083e+00, -5.4654e-01, -4.9818e+00,\n",
              "         -5.0094e-01, -6.5028e-01,  3.8693e+00,  2.0058e-01,  4.7320e+00,\n",
              "         -4.7324e+00,  1.2220e+00,  2.2335e+00, -5.8316e+00,  1.3286e+01,\n",
              "         -4.3229e+00, -1.6326e+00,  9.5223e+00, -6.4992e+00, -1.0374e+01,\n",
              "          5.1089e+00, -5.0523e+00, -9.3722e+00,  1.1903e+01,  1.8366e+00,\n",
              "          5.9241e+00,  2.1471e+01],\n",
              "        [ 2.2341e+00, -1.4048e+01,  1.2199e+01, -1.2076e+00, -8.7090e+00,\n",
              "         -1.5459e+00,  1.0415e+00,  2.5849e-01, -1.1774e+00, -2.5503e+00,\n",
              "          1.9371e+01, -2.2715e+00, -2.5578e+00,  7.2942e+00,  6.6165e+00,\n",
              "          1.5305e+01, -2.2110e+00,  4.4248e+00,  1.2434e+00, -1.7609e+01,\n",
              "         -4.3033e+00, -2.8087e+01,  5.8402e+00,  8.8816e+00, -7.7697e+00,\n",
              "          2.0214e+01,  4.1786e+00],\n",
              "        [-9.3343e+00, -6.1890e+00,  1.3452e+01,  9.4390e-01,  2.1883e+00,\n",
              "         -7.4248e+00,  1.0351e+01,  5.5497e+00,  9.7585e+00,  1.3410e+01,\n",
              "         -3.2004e+00,  8.3124e+00,  1.0268e-01, -8.6020e+00, -4.6983e+00,\n",
              "          5.7956e+00,  4.8867e+00, -5.3230e+00,  9.6025e+00, -6.0875e+00,\n",
              "         -3.4453e+00, -3.5314e+00, -8.9119e+00, -2.5939e+00, -2.0219e+00,\n",
              "          1.7937e+00, -5.7795e-01],\n",
              "        [-2.3293e+00, -3.9659e+00,  1.8353e+01, -3.5566e+00, -3.0629e+00,\n",
              "         -5.5199e+00,  4.9391e+00,  7.1199e+00, -7.7564e-01,  1.1994e+01,\n",
              "          4.3101e+00,  4.1597e+00,  1.4842e+01, -1.1351e+01, -5.4347e+00,\n",
              "          9.8568e-01,  5.5712e+00,  3.3706e-01,  9.7877e+00, -3.6196e+00,\n",
              "         -1.2024e-01, -4.8661e+00, -1.6149e-01, -8.9332e+00, -1.6797e+00,\n",
              "          5.1918e+00, -5.5033e+00],\n",
              "        [-2.8163e+00,  5.4615e+00,  1.1855e+01, -1.5174e+00, -1.0832e+01,\n",
              "          1.2085e+01,  2.7538e+00,  2.7529e+00,  7.8774e+00,  1.0124e+01,\n",
              "          2.1022e+00,  2.3881e+00,  1.1045e+01, -1.4420e+01,  3.0233e+00,\n",
              "          7.6143e+00,  3.6358e-01, -1.7536e+01,  3.5326e+00,  1.2583e+01,\n",
              "         -6.0875e+00,  1.6397e+00, -1.3679e+00, -2.8063e+00, -1.3449e+00,\n",
              "          1.3046e+01, -1.4847e+01],\n",
              "        [-1.0035e+01, -1.3069e+01,  1.6312e+00, -7.7778e+00, -1.1878e+01,\n",
              "          1.5836e+01,  7.3069e+00, -3.8401e+00,  5.4446e+00,  1.7312e+01,\n",
              "         -7.8870e+00,  4.8268e+00,  9.9519e+00, -1.5737e+01,  1.1791e+00,\n",
              "          6.7266e+00,  9.1555e+00, -1.0624e+01,  5.0762e+00,  1.2115e+01,\n",
              "          9.1766e+00,  6.3921e+00,  1.5726e+00, -1.0778e+01,  4.2149e+00,\n",
              "          1.6092e+01, -1.5979e+01],\n",
              "        [ 7.8587e+00,  2.0153e+01,  3.8139e+00,  2.7742e+00, -6.5495e+00,\n",
              "          1.5107e+01,  2.7183e-01, -7.0252e+00,  6.2899e+00,  1.2299e+00,\n",
              "          6.9555e+00, -3.2864e+00,  4.1182e+00,  2.1344e+00,  8.4419e+00,\n",
              "         -8.6762e-01,  6.5801e-01, -3.8442e-01, -9.8124e-01,  1.1415e+01,\n",
              "         -2.6337e+00, -2.3888e+00,  2.2357e+00, -4.1795e+00, -1.0064e+00,\n",
              "          7.2208e+00, -3.1640e+00],\n",
              "        [-8.9395e-01,  2.4816e-01,  6.9293e-01,  1.1122e+00, -1.7421e+01,\n",
              "         -1.1835e+00, -3.0675e+00,  7.3306e+00,  6.1387e+00, -5.1636e+00,\n",
              "          6.8297e+00,  1.0108e+01, -6.1605e+00,  4.9423e+00, -1.9290e+00,\n",
              "          3.7465e+00, -7.3500e+00, -7.7925e+00, -8.9457e+00, -2.3199e+00,\n",
              "         -1.2418e+01, -1.7008e+01,  6.8605e+00, -4.4354e+00, -1.4447e+01,\n",
              "          1.9291e+01,  2.6725e+00],\n",
              "        [ 1.3547e+00,  5.1989e+00,  3.7609e+00,  2.1595e+00,  1.2289e+00,\n",
              "         -3.7259e+00, -1.9688e+00,  2.3533e+00, -6.1481e+00, -5.8643e+00,\n",
              "          3.9055e+00, -6.9288e+00,  1.4984e+00,  8.9660e+00,  1.6738e+01,\n",
              "          5.8373e-01, -1.7427e+00,  1.3828e+01, -3.0362e+00, -1.0173e+01,\n",
              "          2.2460e+00, -1.0127e+01, -6.6218e+00,  1.0395e+01, -7.0281e+00,\n",
              "         -3.8432e+00,  2.2291e+01],\n",
              "        [ 2.0426e+00, -7.4130e+00,  4.8278e+00, -1.1647e+00, -5.7991e+00,\n",
              "         -4.4196e+00,  2.0730e+00, -3.4051e+00, -2.1989e+00, -6.5868e+00,\n",
              "          9.0744e+00, -9.1651e-01, -8.9424e+00,  6.7921e+00,  1.7009e-01,\n",
              "          8.3774e+00, -2.1432e+00, -7.5989e+00,  7.5775e-01, -1.5852e+01,\n",
              "         -1.5013e+01, -2.8226e+01, -3.0200e+00,  4.9849e+00, -1.1406e+01,\n",
              "          1.2415e+01,  6.6117e+00],\n",
              "        [-1.5437e+00, -9.0961e+00,  1.3596e+00,  6.0530e-01, -5.2795e-01,\n",
              "         -6.8893e-01,  1.4787e+01,  5.0835e+00,  5.4617e+00,  9.4566e+00,\n",
              "         -2.9851e+00,  7.4363e+00, -7.2231e+00, -4.9069e+00, -3.8566e+00,\n",
              "          1.5199e+01,  2.3780e+00, -8.2346e+00, -3.9872e+00, -3.8334e+00,\n",
              "         -8.9424e+00, -7.5491e-01, -3.1080e+00, -1.1846e-01,  2.0160e+00,\n",
              "          5.2225e+00,  1.0380e+01],\n",
              "        [-8.3329e-01, -6.8804e+00, -5.3802e+00, -4.2576e+00, -1.1834e+01,\n",
              "          1.2815e+01,  1.4276e+01,  3.0157e+00,  3.7679e+00,  1.2258e+01,\n",
              "         -6.4179e+00,  5.6204e-01,  4.3828e+00, -1.0929e+01,  5.9633e+00,\n",
              "          9.8639e+00,  6.2311e+00, -6.2049e+00, -9.7445e+00, -9.0056e-01,\n",
              "         -3.9143e+00,  6.7627e+00,  2.2777e+00,  7.8541e+00,  6.1723e+00,\n",
              "          8.5321e+00,  5.2985e+00]])"
            ]
          },
          "metadata": {},
          "execution_count": 37
        }
      ]
    },
    {
      "cell_type": "code",
      "source": [
        "counts = logits.exp()\n",
        "probs = counts / counts.sum(1, keepdim=True)\n",
        "probs.shape"
      ],
      "metadata": {
        "colab": {
          "base_uri": "https://localhost:8080/"
        },
        "id": "dXu2iwMrDxiD",
        "outputId": "7818ddf1-84fe-44f8-b6d9-bfaee8e4db1c"
      },
      "execution_count": 38,
      "outputs": [
        {
          "output_type": "execute_result",
          "data": {
            "text/plain": [
              "torch.Size([32, 27])"
            ]
          },
          "metadata": {},
          "execution_count": 38
        }
      ]
    },
    {
      "cell_type": "code",
      "source": [
        "Y"
      ],
      "metadata": {
        "colab": {
          "base_uri": "https://localhost:8080/"
        },
        "id": "nleHTamCD5l7",
        "outputId": "6f1db2c9-99b6-4fb8-962c-907db1f80b67"
      },
      "execution_count": 39,
      "outputs": [
        {
          "output_type": "execute_result",
          "data": {
            "text/plain": [
              "tensor([ 5, 13, 13,  1,  0, 15, 12,  9, 22,  9,  1,  0,  1, 22,  1,  0,  9, 19,\n",
              "         1,  2,  5, 12, 12,  1,  0, 19, 15, 16,  8,  9,  1,  0])"
            ]
          },
          "metadata": {},
          "execution_count": 39
        }
      ]
    },
    {
      "cell_type": "code",
      "source": [
        "torch.arange(32)"
      ],
      "metadata": {
        "colab": {
          "base_uri": "https://localhost:8080/"
        },
        "id": "1SbqoYzaD7du",
        "outputId": "4bff734a-b6b3-4ba8-f283-2a0de20a344b"
      },
      "execution_count": 40,
      "outputs": [
        {
          "output_type": "execute_result",
          "data": {
            "text/plain": [
              "tensor([ 0,  1,  2,  3,  4,  5,  6,  7,  8,  9, 10, 11, 12, 13, 14, 15, 16, 17,\n",
              "        18, 19, 20, 21, 22, 23, 24, 25, 26, 27, 28, 29, 30, 31])"
            ]
          },
          "metadata": {},
          "execution_count": 40
        }
      ]
    },
    {
      "cell_type": "code",
      "source": [
        "loss = -probs[torch.arange(32), Y].log().mean()\n",
        "loss"
      ],
      "metadata": {
        "colab": {
          "base_uri": "https://localhost:8080/"
        },
        "id": "fT6KtZ1rEa8v",
        "outputId": "a6b76d72-d0f6-4c0c-eb1f-868231259865"
      },
      "execution_count": 41,
      "outputs": [
        {
          "output_type": "execute_result",
          "data": {
            "text/plain": [
              "tensor(17.4796)"
            ]
          },
          "metadata": {},
          "execution_count": 41
        }
      ]
    },
    {
      "cell_type": "code",
      "source": [
        "# polished code"
      ],
      "metadata": {
        "id": "fbPeFJ9REgcl"
      },
      "execution_count": 42,
      "outputs": []
    },
    {
      "cell_type": "code",
      "source": [
        "g = torch.Generator().manual_seed(2147483647)\n",
        "C = torch.randn((27, 2), generator=g)\n",
        "W1 = torch.randn((6, 100), generator=g)\n",
        "b1 = torch.randn(100, generator=g)\n",
        "W2 = torch.randn((100, 27), generator=g)\n",
        "b2 = torch.randn(27, generator=g)\n",
        "parameters = [C, W1, b1, W2, b2]"
      ],
      "metadata": {
        "id": "eZ7FCYfOE6pF"
      },
      "execution_count": 110,
      "outputs": []
    },
    {
      "cell_type": "code",
      "source": [
        "# sum(p.nelement() for p in parameters)"
      ],
      "metadata": {
        "id": "cjU1Dh17FmYr"
      },
      "execution_count": 111,
      "outputs": []
    },
    {
      "cell_type": "code",
      "source": [
        "# # forward pass\n",
        "# emb = C[X]\n",
        "# h = torch.tanh(emb.view(-1, 6) @ W1 + b1)\n",
        "# logits = h @ W2 + b2\n",
        "# # counts = logits.exp()\n",
        "# # probs = counts / counts.sum(1, keepdim=True)\n",
        "# # loss = -probs[torch.arange(32), Y].log().mean()\n",
        "# loss = F.cross_entropy(logits, Y)\n",
        "# loss"
      ],
      "metadata": {
        "id": "acM5l1bZFqz0"
      },
      "execution_count": 112,
      "outputs": []
    },
    {
      "cell_type": "code",
      "source": [
        "# lre = torch.linspace(-3, 0, 1000)\n",
        "# lrs = 10**lre\n",
        "# lrs"
      ],
      "metadata": {
        "id": "yTfb6COJPbrP"
      },
      "execution_count": 113,
      "outputs": []
    },
    {
      "cell_type": "code",
      "source": [
        "# lri = []\n",
        "# lossi = []\n",
        "\n",
        "for p in parameters:\n",
        "  p.requires_grad = True\n",
        "\n",
        "for i in range(10000):\n",
        "  # minibatch construction\n",
        "  ix = torch.randint(0, X.shape[0], (32,))\n",
        "\n",
        "  # forward pass\n",
        "  emb = C[X[ix]]\n",
        "  h = torch.tanh(emb.view(-1, 6) @ W1 + b1)\n",
        "  logits = h @ W2 + b2\n",
        "  loss = F.cross_entropy(logits, Y[ix])\n",
        "\n",
        "\n",
        "  # backward pass\n",
        "  for p in parameters:\n",
        "    p.grad = None\n",
        "  loss.backward()\n",
        "\n",
        "  # update\n",
        "  # lr = lrs[i]\n",
        "  lr = 0.01 # 0.1 for early epochs (as determined by lr tracking), 0.01 and 0.001 for later epochs\n",
        "  for p in parameters:\n",
        "    p.data -= lr * p.grad\n",
        "\n",
        "  # track stats\n",
        "  # lri.append(lr)\n",
        "  # # lri.append(lre[i])\n",
        "  # lossi.append(loss.item())\n",
        "\n",
        "print(loss.item())"
      ],
      "metadata": {
        "id": "W4fXelUoGoq4",
        "colab": {
          "base_uri": "https://localhost:8080/"
        },
        "outputId": "588a8a5e-c112-4253-bc8b-45d626631601"
      },
      "execution_count": 117,
      "outputs": [
        {
          "output_type": "stream",
          "name": "stdout",
          "text": [
            "1.9414913654327393\n"
          ]
        }
      ]
    },
    {
      "cell_type": "code",
      "source": [
        "# plt.plot(lri, lossi);"
      ],
      "metadata": {
        "colab": {
          "base_uri": "https://localhost:8080/",
          "height": 430
        },
        "id": "XnZ0JkZEQBvs",
        "outputId": "400e7f82-5ad3-47a5-cede-4353b8dd367e"
      },
      "execution_count": 102,
      "outputs": [
        {
          "output_type": "display_data",
          "data": {
            "text/plain": [
              "<Figure size 640x480 with 1 Axes>"
            ],
            "image/png": "[encoded data removed]"
          },
          "metadata": {}
        }
      ]
    },
    {
      "cell_type": "code",
      "source": [
        "# logits.max(1)"
      ],
      "metadata": {
        "id": "2yRdt7eWKUlR"
      },
      "execution_count": 69,
      "outputs": []
    },
    {
      "cell_type": "code",
      "source": [
        "# Y"
      ],
      "metadata": {
        "id": "GL8sFixlNO1d"
      },
      "execution_count": 70,
      "outputs": []
    },
    {
      "cell_type": "code",
      "source": [
        "emb = C[X]\n",
        "h = torch.tanh(emb.view(-1, 6) @ W1 + b1)\n",
        "logits = h @ W2 + b2\n",
        "loss = F.cross_entropy(logits, Y)\n",
        "loss"
      ],
      "metadata": {
        "colab": {
          "base_uri": "https://localhost:8080/"
        },
        "id": "e2mkQjvqNQQr",
        "outputId": "01d268c1-129a-401f-8091-f246428073e0"
      },
      "execution_count": 76,
      "outputs": [
        {
          "output_type": "execute_result",
          "data": {
            "text/plain": [
              "tensor(2.5610, grad_fn=<NllLossBackward0>)"
            ]
          },
          "metadata": {},
          "execution_count": 76
        }
      ]
    },
    {
      "cell_type": "code",
      "source": [],
      "metadata": {
        "id": "6FVTnkGaO1-H"
      },
      "execution_count": null,
      "outputs": []
    }
  ]
}