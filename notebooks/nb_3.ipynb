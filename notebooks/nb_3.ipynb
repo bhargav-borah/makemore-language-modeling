{
  "nbformat": 4,
  "nbformat_minor": 0,
  "metadata": {
    "colab": {
      "provenance": []
    },
    "kernelspec": {
      "name": "python3",
      "display_name": "Python 3"
    },
    "language_info": {
      "name": "python"
    }
  },
  "cells": [
    {
      "cell_type": "code",
      "execution_count": 101,
      "metadata": {
        "id": "ImOT16sE5mI-"
      },
      "outputs": [],
      "source": [
        "import torch\n",
        "import torch.nn.functional as F\n",
        "import matplotlib.pyplot as plt\n",
        "%matplotlib inline"
      ]
    },
    {
      "cell_type": "code",
      "source": [
        "words = open('names.txt', 'r').read().splitlines()\n",
        "words[:10], len(words)"
      ],
      "metadata": {
        "colab": {
          "base_uri": "https://localhost:8080/"
        },
        "id": "I51SBmSb6MFq",
        "outputId": "94170ced-4598-4bd0-d3a2-1efe3b4eb59a"
      },
      "execution_count": 102,
      "outputs": [
        {
          "output_type": "execute_result",
          "data": {
            "text/plain": [
              "(['emma',\n",
              "  'olivia',\n",
              "  'ava',\n",
              "  'isabella',\n",
              "  'sophia',\n",
              "  'charlotte',\n",
              "  'mia',\n",
              "  'amelia',\n",
              "  'harper',\n",
              "  'evelyn'],\n",
              " 32033)"
            ]
          },
          "metadata": {},
          "execution_count": 102
        }
      ]
    },
    {
      "cell_type": "code",
      "source": [
        "# build the vocabulary of characters and mappings to/from integers\n",
        "chars = sorted(list(set(''.join(words))))\n",
        "stoi = {s:i+1 for i, s in enumerate(chars)}\n",
        "stoi['.'] = 0\n",
        "itos = {i:s for s, i in stoi.items()}\n",
        "vocab_size = len(itos)\n",
        "print(itos)\n",
        "print(vocab_size)"
      ],
      "metadata": {
        "colab": {
          "base_uri": "https://localhost:8080/"
        },
        "id": "nk7X3qSd6Qt_",
        "outputId": "f99658ff-5765-47e2-cc48-f0c7ff714f28"
      },
      "execution_count": 103,
      "outputs": [
        {
          "output_type": "stream",
          "name": "stdout",
          "text": [
            "{1: 'a', 2: 'b', 3: 'c', 4: 'd', 5: 'e', 6: 'f', 7: 'g', 8: 'h', 9: 'i', 10: 'j', 11: 'k', 12: 'l', 13: 'm', 14: 'n', 15: 'o', 16: 'p', 17: 'q', 18: 'r', 19: 's', 20: 't', 21: 'u', 22: 'v', 23: 'w', 24: 'x', 25: 'y', 26: 'z', 0: '.'}\n",
            "27\n"
          ]
        }
      ]
    },
    {
      "cell_type": "code",
      "source": [
        "# build the dataset\n",
        "\n",
        "block_size = 3\n",
        "\n",
        "def build_dataset(words, block_size):\n",
        "  X, Y = [], []\n",
        "\n",
        "  for w in words:\n",
        "    context = [0] * block_size\n",
        "    for ch in w + '.':\n",
        "      ix = stoi[ch]\n",
        "      X.append(context)\n",
        "      Y.append(ix)\n",
        "      context = context[1:] + [ix]\n",
        "\n",
        "  X = torch.tensor(X)\n",
        "  Y = torch.tensor(Y)\n",
        "  print(X.shape, Y.shape)\n",
        "  return X, Y"
      ],
      "metadata": {
        "id": "GTd9DLom6wXJ"
      },
      "execution_count": 104,
      "outputs": []
    },
    {
      "cell_type": "code",
      "source": [
        "import random\n",
        "random.seed(42)\n",
        "random.shuffle(words)\n",
        "n1 = int(0.8 * len(words))\n",
        "n2 = int(0.9 * len(words))\n",
        "\n",
        "Xtr, Ytr = build_dataset(words[:n1], block_size=block_size)\n",
        "Xdev, Ydev = build_dataset(words[n1:n2], block_size=block_size)\n",
        "Xte, Yte = build_dataset(words[n2:], block_size=block_size)"
      ],
      "metadata": {
        "colab": {
          "base_uri": "https://localhost:8080/"
        },
        "id": "N-iH8hWH7aTi",
        "outputId": "cf7ec42e-0bb2-4a2c-9a00-e38b78763fd0"
      },
      "execution_count": 105,
      "outputs": [
        {
          "output_type": "stream",
          "name": "stdout",
          "text": [
            "torch.Size([182625, 3]) torch.Size([182625])\n",
            "torch.Size([22655, 3]) torch.Size([22655])\n",
            "torch.Size([22866, 3]) torch.Size([22866])\n"
          ]
        }
      ]
    },
    {
      "cell_type": "code",
      "source": [
        "# MLP\n",
        "n_embd = 10 # the dimensionality of the character embedding vectors\n",
        "n_hidden = 200 # the number of neurons in the hidden layer of the MLP\n",
        "\n",
        "g = torch.Generator().manual_seed(2147483647)\n",
        "C = torch.randn((vocab_size, n_embd), generator=g)\n",
        "# W1 = torch.randn((n_embd * block_size, n_hidden), generator=g) * 0.2\n",
        "W1 = torch.randn((n_embd * block_size, n_hidden), generator=g) * (5/3) / ((n_embd * block_size) ** 0.5)\n",
        "b1 = torch.randn(n_hidden, generator=g) * 0.01\n",
        "W2 = torch.randn((n_hidden, vocab_size), generator=g) * 0.01\n",
        "b2 = torch.randn(vocab_size, generator=g) * 0\n",
        "\n",
        "bngain = torch.ones((1, n_hidden))\n",
        "bnbias = torch.zeros((1, n_hidden))\n",
        "bnmean_running = torch.ones((1, n_hidden))\n",
        "bnstd_running = torch.ones((1, n_hidden))\n",
        "\n",
        "parameters = [C, W1, b2, W2, b2, bngain, bnbias]\n",
        "print(sum(p.nelement() for p in parameters)) # total number of parameters\n",
        "for p in parameters:\n",
        "  p.requires_grad = True"
      ],
      "metadata": {
        "colab": {
          "base_uri": "https://localhost:8080/"
        },
        "id": "7If4NDvS7vnW",
        "outputId": "e918901a-0b84-4005-adc0-416039ffd3d9"
      },
      "execution_count": 106,
      "outputs": [
        {
          "output_type": "stream",
          "name": "stdout",
          "text": [
            "12124\n"
          ]
        }
      ]
    },
    {
      "cell_type": "code",
      "source": [
        "x = torch.randn(1000, 10)\n",
        "# w = torch.randn(10, 200)\n",
        "w = torch.randn(10, 200) * (10 ** 0.5)\n",
        "y = x @ w\n",
        "print(x.mean(), x.std())\n",
        "print(y.mean(), y.std())\n",
        "plt.figure(figsize=(20, 5))\n",
        "plt.subplot(121)\n",
        "plt.hist(x.view(-1).tolist(), 50, density=True)\n",
        "plt.subplot(122)\n",
        "plt.hist(y.view(-1).tolist(), 50, density=True);"
      ],
      "metadata": {
        "colab": {
          "base_uri": "https://localhost:8080/",
          "height": 219
        },
        "id": "28GMhufyJZqi",
        "outputId": "8c555e26-4601-4dcc-b0f8-d26f167b4b85"
      },
      "execution_count": 107,
      "outputs": [
        {
          "output_type": "stream",
          "name": "stdout",
          "text": [
            "tensor(-0.0160) tensor(0.9997)\n",
            "tensor(-0.0374) tensor(9.8978)\n"
          ]
        },
        {
          "output_type": "display_data",
          "data": {
            "text/plain": [
              "<Figure size 2000x500 with 2 Axes>"
            ],
            "image/png": "[encoded data removed]"
          },
          "metadata": {}
        }
      ]
    },
    {
      "cell_type": "code",
      "source": [
        "# (torch.randn(1000000)).std()\n",
        "(torch.randn(1000000) * 0.7).std()"
      ],
      "metadata": {
        "colab": {
          "base_uri": "https://localhost:8080/"
        },
        "id": "sbCUkbl8MJDG",
        "outputId": "ec5d3373-8d80-4138-e229-60a4931c921e"
      },
      "execution_count": 108,
      "outputs": [
        {
          "output_type": "execute_result",
          "data": {
            "text/plain": [
              "tensor(0.6989)"
            ]
          },
          "metadata": {},
          "execution_count": 108
        }
      ]
    },
    {
      "cell_type": "code",
      "source": [
        "n_embd * block_size"
      ],
      "metadata": {
        "colab": {
          "base_uri": "https://localhost:8080/"
        },
        "id": "Erpxkh7hMhvA",
        "outputId": "e078ba4b-8ebf-4723-c373-f04e40b43cc0"
      },
      "execution_count": 109,
      "outputs": [
        {
          "output_type": "execute_result",
          "data": {
            "text/plain": [
              "30"
            ]
          },
          "metadata": {},
          "execution_count": 109
        }
      ]
    },
    {
      "cell_type": "code",
      "source": [
        "(5 / 3) / (30 ** 0.5)"
      ],
      "metadata": {
        "colab": {
          "base_uri": "https://localhost:8080/"
        },
        "id": "cGysV-byMdea",
        "outputId": "f5a6d63f-72aa-495f-9fe6-9830642bdba7"
      },
      "execution_count": 110,
      "outputs": [
        {
          "output_type": "execute_result",
          "data": {
            "text/plain": [
              "0.3042903097250923"
            ]
          },
          "metadata": {},
          "execution_count": 110
        }
      ]
    },
    {
      "cell_type": "code",
      "source": [
        "max_steps = 200000\n",
        "batch_size = 32\n",
        "lossi = []\n",
        "\n",
        "for i in range(max_steps):\n",
        "\n",
        "  # minibatch construct\n",
        "  ix = torch.randint(0, Xtr.shape[0], (batch_size,), generator=g)\n",
        "  Xb, Yb = Xtr[ix], Ytr[ix]\n",
        "\n",
        "  # forward pass\n",
        "  emb = C[Xb]\n",
        "  embcat = emb.view(emb.shape[0], -1)\n",
        "  hpreact = embcat @ W1 + b1\n",
        "  bnmeani = hpreact.mean(0, keepdim=True)\n",
        "  bnstdi = hpreact.std(0, keepdim=True)\n",
        "  hpreact = bngain * (hpreact - hpreact.mean(0, keepdim=True)) / hpreact.std(0, keepdim=True) + bnbias\n",
        "\n",
        "  with torch.no_grad():\n",
        "    bnmean_running = 0.999 * bnmean_running + 0.001 * bnmeani\n",
        "    bnstd_running = 0.999 * bnstd_running + 0.001 * bnstdi\n",
        "\n",
        "  h = torch.tanh(hpreact)\n",
        "  logits = h @ W2 + b2\n",
        "  loss = F.cross_entropy(logits, Yb)\n",
        "\n",
        "  # backward pass\n",
        "  for p in parameters:\n",
        "    p.grad = None\n",
        "  loss.backward()\n",
        "\n",
        "  # update\n",
        "  lr = 0.1 if i < 100000 else 0.01\n",
        "  for p in parameters:\n",
        "    p.data -= lr * p.grad\n",
        "\n",
        "  # track stats\n",
        "  if i % 10000 == 0:\n",
        "    print(f'{i:7d}/{max_steps:7d}: {loss.item():.4f}')\n",
        "  lossi.append(loss.log10().item())\n",
        "\n",
        "  # break"
      ],
      "metadata": {
        "colab": {
          "base_uri": "https://localhost:8080/"
        },
        "id": "o0tboTjy8yjD",
        "outputId": "95a06d7c-e66c-472e-b2fe-1bcebc9e8095"
      },
      "execution_count": 111,
      "outputs": [
        {
          "output_type": "stream",
          "name": "stdout",
          "text": [
            "      0/ 200000: 3.3147\n",
            "  10000/ 200000: 2.1909\n",
            "  20000/ 200000: 2.3221\n",
            "  30000/ 200000: 2.4388\n",
            "  40000/ 200000: 2.0089\n",
            "  50000/ 200000: 2.2936\n",
            "  60000/ 200000: 2.4981\n",
            "  70000/ 200000: 2.1200\n",
            "  80000/ 200000: 2.2933\n",
            "  90000/ 200000: 2.1784\n",
            " 100000/ 200000: 2.0199\n",
            " 110000/ 200000: 2.3067\n",
            " 120000/ 200000: 1.9450\n",
            " 130000/ 200000: 2.4594\n",
            " 140000/ 200000: 2.3683\n",
            " 150000/ 200000: 2.2553\n",
            " 160000/ 200000: 2.0477\n",
            " 170000/ 200000: 1.8780\n",
            " 180000/ 200000: 2.0366\n",
            " 190000/ 200000: 1.8371\n"
          ]
        }
      ]
    },
    {
      "cell_type": "code",
      "source": [
        "hpreact.shape"
      ],
      "metadata": {
        "colab": {
          "base_uri": "https://localhost:8080/"
        },
        "id": "p-9Xe6VlPsdO",
        "outputId": "d0340476-a1ad-42ac-cc78-c720f9f57d8b"
      },
      "execution_count": 112,
      "outputs": [
        {
          "output_type": "execute_result",
          "data": {
            "text/plain": [
              "torch.Size([32, 200])"
            ]
          },
          "metadata": {},
          "execution_count": 112
        }
      ]
    },
    {
      "cell_type": "code",
      "source": [
        "hpreact.mean(0, keepdim=True).shape"
      ],
      "metadata": {
        "colab": {
          "base_uri": "https://localhost:8080/"
        },
        "id": "II-tOCunPugb",
        "outputId": "8f81674e-ee82-4f40-9d31-59b287233487"
      },
      "execution_count": 113,
      "outputs": [
        {
          "output_type": "execute_result",
          "data": {
            "text/plain": [
              "torch.Size([1, 200])"
            ]
          },
          "metadata": {},
          "execution_count": 113
        }
      ]
    },
    {
      "cell_type": "code",
      "source": [
        "hpreact.std(0, keepdim=True).shape"
      ],
      "metadata": {
        "colab": {
          "base_uri": "https://localhost:8080/"
        },
        "id": "B215874qPwlv",
        "outputId": "c4c57720-6641-434d-977b-53944b75b063"
      },
      "execution_count": 114,
      "outputs": [
        {
          "output_type": "execute_result",
          "data": {
            "text/plain": [
              "torch.Size([1, 200])"
            ]
          },
          "metadata": {},
          "execution_count": 114
        }
      ]
    },
    {
      "cell_type": "code",
      "source": [
        "plt.hist(h.view(-1).tolist(), 50);"
      ],
      "metadata": {
        "colab": {
          "base_uri": "https://localhost:8080/",
          "height": 430
        },
        "id": "hDQwCXU7DdiQ",
        "outputId": "76c22804-8afe-44a0-90a8-16ab03634043"
      },
      "execution_count": 115,
      "outputs": [
        {
          "output_type": "display_data",
          "data": {
            "text/plain": [
              "<Figure size 640x480 with 1 Axes>"
            ],
            "image/png": "[encoded data removed]"
          },
          "metadata": {}
        }
      ]
    },
    {
      "cell_type": "code",
      "source": [
        "plt.hist(hpreact.view(-1).tolist(), 50);"
      ],
      "metadata": {
        "colab": {
          "base_uri": "https://localhost:8080/",
          "height": 430
        },
        "id": "4lJV5Jr8EaPU",
        "outputId": "2f6283bd-065e-4ff0-e145-ed088a04120b"
      },
      "execution_count": 116,
      "outputs": [
        {
          "output_type": "display_data",
          "data": {
            "text/plain": [
              "<Figure size 640x480 with 1 Axes>"
            ],
            "image/png": "[encoded data removed]"
          },
          "metadata": {}
        }
      ]
    },
    {
      "cell_type": "code",
      "source": [
        "# good that there is no column of white\n",
        "plt.figure(figsize=(20, 10))\n",
        "plt.imshow(h.abs() > 0.99, cmap='gray', interpolation='nearest');"
      ],
      "metadata": {
        "colab": {
          "base_uri": "https://localhost:8080/",
          "height": 132
        },
        "id": "hXUvmN-kFZOc",
        "outputId": "b81880fa-a6ad-4e86-f7df-396e41933956"
      },
      "execution_count": 117,
      "outputs": [
        {
          "output_type": "display_data",
          "data": {
            "text/plain": [
              "<Figure size 2000x1000 with 1 Axes>"
            ],
            "image/png": "[encoded data removed]"
          },
          "metadata": {}
        }
      ]
    },
    {
      "cell_type": "code",
      "source": [
        "# logits[0]"
      ],
      "metadata": {
        "id": "LvvoH_4tWrak"
      },
      "execution_count": 118,
      "outputs": []
    },
    {
      "cell_type": "code",
      "source": [
        "plt.plot(lossi);"
      ],
      "metadata": {
        "colab": {
          "base_uri": "https://localhost:8080/",
          "height": 430
        },
        "id": "6gzZUU_E-HEh",
        "outputId": "ec0bb59d-906b-485b-a8d7-f4abe7c73655"
      },
      "execution_count": 119,
      "outputs": [
        {
          "output_type": "display_data",
          "data": {
            "text/plain": [
              "<Figure size 640x480 with 1 Axes>"
            ],
            "image/png": "[encoded data removed]"
          },
          "metadata": {}
        }
      ]
    },
    {
      "cell_type": "code",
      "source": [
        "# calibrate the batch norm at the end of training\n",
        "\n",
        "with torch.no_grad():\n",
        "  # pass the training set\n",
        "  emb = C[Xtr]\n",
        "  embcat = emb.view(emb.shape[0], -1)\n",
        "  hpreact = embcat @ W1 + b1\n",
        "  # measure the mean/std over the entire training set\n",
        "  bnmean = hpreact.mean(0, keepdim=True)\n",
        "  bnstd = hpreact.std(0, keepdim=True)"
      ],
      "metadata": {
        "id": "v9jKfxe3XuwE"
      },
      "execution_count": 120,
      "outputs": []
    },
    {
      "cell_type": "code",
      "source": [
        "bnmean"
      ],
      "metadata": {
        "id": "-XQ5zLSIdsbi",
        "outputId": "5d550a5d-f9b8-42e7-b85e-85772cad250d",
        "colab": {
          "base_uri": "https://localhost:8080/"
        }
      },
      "execution_count": 128,
      "outputs": [
        {
          "output_type": "execute_result",
          "data": {
            "text/plain": [
              "tensor([[-2.3783e+00,  7.2955e-01, -7.7322e-01,  1.1522e+00,  1.1377e+00,\n",
              "          1.0626e+00,  2.0392e+00, -1.9416e+00,  5.6887e-01,  1.2529e+00,\n",
              "         -1.9291e+00, -2.7966e+00, -8.5094e-01, -1.1393e-01, -2.6592e-02,\n",
              "         -1.0950e+00,  8.8685e-01, -2.6286e+00,  2.7857e-01,  1.3515e+00,\n",
              "         -7.3522e-01, -1.4618e-01,  3.3495e-01,  6.3101e-01,  9.8678e-01,\n",
              "          2.0798e-01,  1.9499e+00,  9.9567e-02,  5.6665e-01,  1.8042e+00,\n",
              "         -2.3413e-01, -1.1848e+00, -9.2093e-01, -1.6470e-01, -4.6197e-01,\n",
              "         -1.3520e+00, -2.3865e+00,  4.8566e-01, -5.2243e-01,  8.1730e-01,\n",
              "         -3.4693e-01, -1.3566e+00, -2.3666e-01, -1.8834e-01,  8.4635e-01,\n",
              "          5.7904e-01,  1.9311e+00, -6.6980e-01,  1.7608e+00,  1.7116e+00,\n",
              "          7.5900e-01,  9.5617e-02,  1.7324e+00,  6.2542e-01,  9.3564e-01,\n",
              "         -1.9507e+00, -1.3218e-01,  3.4063e-01,  1.4127e+00, -1.2169e+00,\n",
              "         -3.8288e-01,  9.4358e-01,  5.9500e-01,  3.6119e-01,  1.7303e+00,\n",
              "          9.0682e-01, -1.1629e+00,  2.1628e+00, -4.5564e-01,  1.0155e-01,\n",
              "          1.6207e-01, -5.1048e-01,  7.1223e-01, -1.1786e+00, -2.9846e+00,\n",
              "          3.9482e-01,  1.1635e+00, -1.8217e-01,  2.5278e-01,  4.0558e-01,\n",
              "         -2.8045e-03,  1.2398e+00,  2.0005e+00,  5.0657e-01, -8.2741e-02,\n",
              "          3.3952e-01, -1.7461e+00,  2.5512e-01,  7.2379e-01,  2.2010e-02,\n",
              "         -6.0821e-01,  1.3336e+00, -3.8776e-01, -1.1405e+00, -7.8231e-01,\n",
              "          3.2766e-01, -2.0012e-01,  1.4619e-01, -2.6190e-02, -4.6315e-01,\n",
              "         -7.4290e-02,  3.3495e-01, -1.2401e+00,  4.7778e-01,  6.8320e-01,\n",
              "         -9.3295e-02, -3.7191e-01, -1.5561e-01,  1.2831e+00, -8.5554e-01,\n",
              "          7.9279e-01,  3.4462e-01,  6.8124e-01,  1.2316e+00,  2.4961e+00,\n",
              "          2.1414e+00,  4.4594e-01, -1.1433e-01,  5.5070e-01, -8.1776e-01,\n",
              "         -1.2467e+00, -1.2277e+00,  1.0818e-01,  8.0589e-01, -9.7305e-01,\n",
              "          5.4579e-02,  3.2765e-02, -7.0689e-01, -9.1188e-01, -9.8192e-01,\n",
              "          2.7597e+00, -1.4157e+00,  1.0050e+00,  1.0519e+00,  8.8108e-01,\n",
              "          1.4421e+00, -1.5671e-01,  1.8627e+00,  2.0145e-01,  6.3054e-01,\n",
              "          1.4734e+00, -4.0375e-01,  1.6622e+00,  3.4461e-01,  5.1812e-01,\n",
              "          6.4079e-01,  1.0777e+00, -7.3860e-01,  4.3916e-01,  7.1371e-01,\n",
              "         -1.8924e+00, -1.6896e-01,  1.7063e+00,  8.0346e-01,  8.7688e-01,\n",
              "         -2.5276e-01,  1.3022e+00, -1.5871e+00, -1.9213e-01,  1.0012e+00,\n",
              "          5.4093e-01, -5.4727e-01,  7.7634e-01, -1.5782e+00, -5.0915e-01,\n",
              "          2.6858e-01, -7.7589e-02, -1.1069e-01, -1.9104e+00, -1.6747e-01,\n",
              "          1.3053e+00, -1.5000e+00, -4.3385e-01, -5.5534e-01, -6.0798e-01,\n",
              "          9.2088e-01,  1.6344e+00, -9.7652e-01,  1.3606e+00, -1.6544e+00,\n",
              "          1.9618e+00,  1.1577e+00,  4.7431e-01, -1.0060e+00,  3.6989e-01,\n",
              "          6.7918e-02, -1.2091e+00, -2.5179e-01,  1.8290e+00,  1.1209e+00,\n",
              "          6.3562e-01,  1.6534e+00, -6.3778e-01,  1.4124e-01,  1.9885e-01,\n",
              "          1.5011e+00,  1.2439e+00, -9.9468e-01,  2.2461e-01,  1.3008e+00]])"
            ]
          },
          "metadata": {},
          "execution_count": 128
        }
      ]
    },
    {
      "cell_type": "code",
      "source": [
        "bnmean_running"
      ],
      "metadata": {
        "id": "ppHl6DW1dtIw",
        "outputId": "3328782d-e50a-45a4-db1e-72d9fcb647f4",
        "colab": {
          "base_uri": "https://localhost:8080/"
        }
      },
      "execution_count": 129,
      "outputs": [
        {
          "output_type": "execute_result",
          "data": {
            "text/plain": [
              "tensor([[-2.3950,  0.7403, -0.7615,  1.1525,  1.1410,  1.0573,  2.0324, -1.9585,\n",
              "          0.5587,  1.2332, -1.9413, -2.7990, -0.8621, -0.1231, -0.0152, -1.0738,\n",
              "          0.8954, -2.6437,  0.2526,  1.3398, -0.7352, -0.1266,  0.3281,  0.6285,\n",
              "          0.9802,  0.2114,  1.9617,  0.0963,  0.5618,  1.8077, -0.2495, -1.1835,\n",
              "         -0.9252, -0.1717, -0.4617, -1.3554, -2.3827,  0.4770, -0.5128,  0.8233,\n",
              "         -0.3521, -1.3823, -0.2406, -0.1848,  0.8561,  0.5909,  1.9353, -0.6782,\n",
              "          1.7529,  1.7000,  0.7420,  0.0916,  1.7199,  0.6233,  0.9273, -1.9550,\n",
              "         -0.1338,  0.3427,  1.4226, -1.2148, -0.4023,  0.9308,  0.5860,  0.3568,\n",
              "          1.7297,  0.8941, -1.1701,  2.1573, -0.4545,  0.1166,  0.1521, -0.5117,\n",
              "          0.6941, -1.1467, -2.9782,  0.3838,  1.1746, -0.1782,  0.2492,  0.3988,\n",
              "         -0.0045,  1.2313,  1.9767,  0.5150, -0.0781,  0.3362, -1.7509,  0.2494,\n",
              "          0.7200,  0.0360, -0.6053,  1.3410, -0.3929, -1.1496, -0.7833,  0.3193,\n",
              "         -0.2176,  0.1502, -0.0350, -0.4490, -0.0741,  0.3342, -1.2498,  0.4664,\n",
              "          0.6899, -0.0792, -0.3700, -0.1423,  1.2909, -0.8772,  0.7928,  0.3504,\n",
              "          0.6688,  1.2364,  2.4785,  2.1275,  0.4373, -0.1225,  0.5535, -0.8087,\n",
              "         -1.2580, -1.2224,  0.0996,  0.8154, -0.9737,  0.0506,  0.0165, -0.7046,\n",
              "         -0.9022, -0.9801,  2.7575, -1.4166,  1.0037,  1.0518,  0.8945,  1.4437,\n",
              "         -0.1643,  1.8459,  0.2112,  0.6509,  1.4890, -0.4165,  1.6671,  0.3498,\n",
              "          0.5106,  0.6383,  1.0788, -0.7366,  0.4366,  0.7116, -1.8947, -0.1602,\n",
              "          1.7166,  0.7983,  0.8650, -0.2566,  1.3046, -1.5860, -0.1888,  0.9945,\n",
              "          0.5319, -0.5307,  0.7733, -1.5616, -0.5222,  0.2628, -0.0756, -0.1068,\n",
              "         -1.9018, -0.1594,  1.2922, -1.5117, -0.4355, -0.5470, -0.6127,  0.9265,\n",
              "          1.6284, -0.9638,  1.3553, -1.6562,  1.9515,  1.1622,  0.4738, -1.0061,\n",
              "          0.3589,  0.0642, -1.2183, -0.2560,  1.8433,  1.1101,  0.6409,  1.6611,\n",
              "         -0.6574,  0.1371,  0.2200,  1.4922,  1.2482, -0.9827,  0.2138,  1.2984]])"
            ]
          },
          "metadata": {},
          "execution_count": 129
        }
      ]
    },
    {
      "cell_type": "code",
      "source": [
        "# bnstd"
      ],
      "metadata": {
        "id": "YN21X3oDbrop"
      },
      "execution_count": 126,
      "outputs": []
    },
    {
      "cell_type": "code",
      "source": [
        "# bnstd_running"
      ],
      "metadata": {
        "id": "7lkFQD82bsAM"
      },
      "execution_count": 127,
      "outputs": []
    },
    {
      "cell_type": "code",
      "source": [
        "@torch.no_grad() # this decorator disables gradient tracking\n",
        "def split_loss(split):\n",
        "  x, y = {\n",
        "      'train': (Xtr, Ytr),\n",
        "      'val': (Xdev, Ydev),\n",
        "      'test': (Xte, Yte)\n",
        "  }[split]\n",
        "  emb = C[x] # (N, block_size, n_embd)\n",
        "  embcat = emb.view(emb.shape[0], -1) # concat into (N, block_size * n_embd)\n",
        "  hpreact = embcat @ W1 + b1\n",
        "  # hpreact = bngain * (hpreact - hpreact.mean(0, keepdim=True)) / hpreact.std(0, keepdim=True)\n",
        "  hpreact = bngain * (hpreact - bnmean_running) / bnstd_running + bnbias\n",
        "  h = torch.tanh(hpreact)\n",
        "  logits = h @ W2 + b2\n",
        "  loss = F.cross_entropy(logits, y)\n",
        "  print(split, loss.item())"
      ],
      "metadata": {
        "id": "vUiXpHwI-8_v"
      },
      "execution_count": 130,
      "outputs": []
    },
    {
      "cell_type": "code",
      "source": [
        "split_loss('train')\n",
        "split_loss('test')"
      ],
      "metadata": {
        "colab": {
          "base_uri": "https://localhost:8080/"
        },
        "id": "ZUGmmOL8_h9C",
        "outputId": "7b398eba-da63-48ea-d715-cbe43d589bdb"
      },
      "execution_count": 124,
      "outputs": [
        {
          "output_type": "stream",
          "name": "stdout",
          "text": [
            "train 2.066676616668701\n",
            "test 2.107788562774658\n"
          ]
        }
      ]
    },
    {
      "cell_type": "code",
      "source": [
        "# sample from the model\n",
        "g = torch.Generator().manual_seed(214783647 + 10)\n",
        "\n",
        "for _ in range(20):\n",
        "\n",
        "    out = []\n",
        "    context = [0] * block_size\n",
        "    while True:\n",
        "        # forward pass the neural net\n",
        "        context_tensor = torch.tensor([context])  # Convert context to a tensor of shape (1, block_size)\n",
        "        emb = C[context_tensor]  # (1, block_size, n_embd)\n",
        "        h = torch.tanh(emb.view(1, -1) @ W1 + b1)  # Compute hidden layer\n",
        "        logits = h @ W2 + b2  # Compute logits\n",
        "        probs = F.softmax(logits, dim=1)  # Compute probabilities\n",
        "        # sample from the distribution\n",
        "        ix = torch.multinomial(probs, num_samples=1, generator=g).item()\n",
        "        # shift the context window and track the samples\n",
        "        context = context[1:] + [ix]\n",
        "        out.append(ix)\n",
        "        # if we sample the special '.' token, break\n",
        "        if ix == 0:\n",
        "            break\n",
        "\n",
        "    print(''.join(itos[i] for i in out))"
      ],
      "metadata": {
        "colab": {
          "base_uri": "https://localhost:8080/"
        },
        "id": "EQMp9EsfAhqL",
        "outputId": "23a09838-d4c3-484b-8546-3c3a348251cf"
      },
      "execution_count": 125,
      "outputs": [
        {
          "output_type": "stream",
          "name": "stdout",
          "text": [
            "brissadyly.\n",
            "sissskbriysanthzeegammiasselsssufussiasgmarviinshamviysstts.\n",
            "piseassafnabdulkiyshbyna.\n",
            "zshby.\n",
            "sasdsw.\n",
            "sressaddudusssuffylisessaddislucasellisthfffdoyashmeariselguszatsiadizabelly.\n",
            "vivizellnnesss.\n",
            "lubleighttk.\n",
            "zabbubrissmfrisheth.\n",
            "saesuspsiaird.\n",
            "quunzierusavyasfernivabraynlwh.\n",
            "solnsetzavishby.\n",
            "saxsitsiemasthvi.\n",
            "frinnudie.\n",
            "saldiseldyn.\n",
            "brissimfernyellbdsiiassiahasnishelqaimfasumisluiamnishefr.\n",
            "brubusasdbrias.\n",
            "fellton.\n",
            "qraveagudor.\n",
            "priz.\n"
          ]
        }
      ]
    },
    {
      "cell_type": "code",
      "source": [],
      "metadata": {
        "id": "ZAyIm_mBCuCT"
      },
      "execution_count": 125,
      "outputs": []
    },
    {
      "cell_type": "code",
      "source": [],
      "metadata": {
        "id": "r2FB0vmDC3F8"
      },
      "execution_count": 125,
      "outputs": []
    }
  ]
}