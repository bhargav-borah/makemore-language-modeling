{
  "nbformat": 4,
  "nbformat_minor": 0,
  "metadata": {
    "colab": {
      "provenance": []
    },
    "kernelspec": {
      "name": "python3",
      "display_name": "Python 3"
    },
    "language_info": {
      "name": "python"
    }
  },
  "cells": [
    {
      "cell_type": "code",
      "execution_count": 28,
      "metadata": {
        "id": "ImOT16sE5mI-"
      },
      "outputs": [],
      "source": [
        "import torch\n",
        "import torch.nn.functional as F\n",
        "import matplotlib.pyplot as plt\n",
        "%matplotlib inline"
      ]
    },
    {
      "cell_type": "code",
      "source": [
        "words = open('names.txt', 'r').read().splitlines()\n",
        "words[:10], len(words)"
      ],
      "metadata": {
        "colab": {
          "base_uri": "https://localhost:8080/"
        },
        "id": "I51SBmSb6MFq",
        "outputId": "88c429dd-82f4-4966-ca02-335f1676d415"
      },
      "execution_count": 29,
      "outputs": [
        {
          "output_type": "execute_result",
          "data": {
            "text/plain": [
              "(['emma',\n",
              "  'olivia',\n",
              "  'ava',\n",
              "  'isabella',\n",
              "  'sophia',\n",
              "  'charlotte',\n",
              "  'mia',\n",
              "  'amelia',\n",
              "  'harper',\n",
              "  'evelyn'],\n",
              " 32033)"
            ]
          },
          "metadata": {},
          "execution_count": 29
        }
      ]
    },
    {
      "cell_type": "code",
      "source": [
        "# build the vocabulary of characters and mappings to/from integers\n",
        "chars = sorted(list(set(''.join(words))))\n",
        "stoi = {s:i+1 for i, s in enumerate(chars)}\n",
        "stoi['.'] = 0\n",
        "itos = {i:s for s, i in stoi.items()}\n",
        "vocab_size = len(itos)\n",
        "print(itos)\n",
        "print(vocab_size)"
      ],
      "metadata": {
        "colab": {
          "base_uri": "https://localhost:8080/"
        },
        "id": "nk7X3qSd6Qt_",
        "outputId": "b73b8047-b7e0-47e0-d1ad-1f23c101bca5"
      },
      "execution_count": 30,
      "outputs": [
        {
          "output_type": "stream",
          "name": "stdout",
          "text": [
            "{1: 'a', 2: 'b', 3: 'c', 4: 'd', 5: 'e', 6: 'f', 7: 'g', 8: 'h', 9: 'i', 10: 'j', 11: 'k', 12: 'l', 13: 'm', 14: 'n', 15: 'o', 16: 'p', 17: 'q', 18: 'r', 19: 's', 20: 't', 21: 'u', 22: 'v', 23: 'w', 24: 'x', 25: 'y', 26: 'z', 0: '.'}\n",
            "27\n"
          ]
        }
      ]
    },
    {
      "cell_type": "code",
      "source": [
        "# build the dataset\n",
        "\n",
        "block_size = 3\n",
        "\n",
        "def build_dataset(words, block_size):\n",
        "  X, Y = [], []\n",
        "\n",
        "  for w in words:\n",
        "    context = [0] * block_size\n",
        "    for ch in w + '.':\n",
        "      ix = stoi[ch]\n",
        "      X.append(context)\n",
        "      Y.append(ix)\n",
        "      context = context[1:] + [ix]\n",
        "\n",
        "  X = torch.tensor(X)\n",
        "  Y = torch.tensor(Y)\n",
        "  print(X.shape, Y.shape)\n",
        "  return X, Y"
      ],
      "metadata": {
        "id": "GTd9DLom6wXJ"
      },
      "execution_count": 31,
      "outputs": []
    },
    {
      "cell_type": "code",
      "source": [
        "import random\n",
        "random.seed(42)\n",
        "random.shuffle(words)\n",
        "n1 = int(0.8 * len(words))\n",
        "n2 = int(0.9 * len(words))\n",
        "\n",
        "Xtr, Ytr = build_dataset(words[:n1], block_size=block_size)\n",
        "Xdev, Ydev = build_dataset(words[n1:n2], block_size=block_size)\n",
        "Xte, Yte = build_dataset(words[n2:], block_size=block_size)"
      ],
      "metadata": {
        "colab": {
          "base_uri": "https://localhost:8080/"
        },
        "id": "N-iH8hWH7aTi",
        "outputId": "fc8d3511-69a2-422f-bcb3-5b5802209049"
      },
      "execution_count": 32,
      "outputs": [
        {
          "output_type": "stream",
          "name": "stdout",
          "text": [
            "torch.Size([182625, 3]) torch.Size([182625])\n",
            "torch.Size([22655, 3]) torch.Size([22655])\n",
            "torch.Size([22866, 3]) torch.Size([22866])\n"
          ]
        }
      ]
    },
    {
      "cell_type": "code",
      "source": [
        "# MLP\n",
        "n_embd = 10 # the dimensionality of the character embedding vectors\n",
        "n_hidden = 200 # the number of neurons in the hidden layer of the MLP\n",
        "\n",
        "g = torch.Generator().manual_seed(2147483647)\n",
        "C = torch.randn((vocab_size, n_embd), generator=g)\n",
        "# W1 = torch.randn((n_embd * block_size, n_hidden), generator=g) * 0.2\n",
        "W1 = torch.randn((n_embd * block_size, n_hidden), generator=g) * (5/3) / ((n_embd * block_size) ** 0.5)\n",
        "# b1 = torch.randn(n_hidden, generator=g) * 0.01\n",
        "W2 = torch.randn((n_hidden, vocab_size), generator=g) * 0.01\n",
        "b2 = torch.randn(vocab_size, generator=g) * 0\n",
        "\n",
        "bngain = torch.ones((1, n_hidden))\n",
        "bnbias = torch.zeros((1, n_hidden))\n",
        "bnmean_running = torch.ones((1, n_hidden))\n",
        "bnstd_running = torch.ones((1, n_hidden))\n",
        "\n",
        "parameters = [C, W1, b2, W2, b2, bngain, bnbias]\n",
        "print(sum(p.nelement() for p in parameters)) # total number of parameters\n",
        "for p in parameters:\n",
        "  p.requires_grad = True"
      ],
      "metadata": {
        "colab": {
          "base_uri": "https://localhost:8080/"
        },
        "id": "7If4NDvS7vnW",
        "outputId": "53414453-7f3b-4a97-e6bb-fbfcaccd8bd2"
      },
      "execution_count": 33,
      "outputs": [
        {
          "output_type": "stream",
          "name": "stdout",
          "text": [
            "12124\n"
          ]
        }
      ]
    },
    {
      "cell_type": "code",
      "source": [
        "x = torch.randn(1000, 10)\n",
        "# w = torch.randn(10, 200)\n",
        "w = torch.randn(10, 200) * (10 ** 0.5)\n",
        "y = x @ w\n",
        "print(x.mean(), x.std())\n",
        "print(y.mean(), y.std())\n",
        "plt.figure(figsize=(20, 5))\n",
        "plt.subplot(121)\n",
        "plt.hist(x.view(-1).tolist(), 50, density=True)\n",
        "plt.subplot(122)\n",
        "plt.hist(y.view(-1).tolist(), 50, density=True);"
      ],
      "metadata": {
        "colab": {
          "base_uri": "https://localhost:8080/",
          "height": 219
        },
        "id": "28GMhufyJZqi",
        "outputId": "271e4d14-915f-451c-f6a8-a9b72711ba31"
      },
      "execution_count": 34,
      "outputs": [
        {
          "output_type": "stream",
          "name": "stdout",
          "text": [
            "tensor(-0.0095) tensor(0.9996)\n",
            "tensor(-0.0110) tensor(10.1819)\n"
          ]
        },
        {
          "output_type": "display_data",
          "data": {
            "text/plain": [
              "<Figure size 2000x500 with 2 Axes>"
            ],
            "image/png": "[encoded data removed]"
          },
          "metadata": {}
        }
      ]
    },
    {
      "cell_type": "code",
      "source": [
        "# (torch.randn(1000000)).std()\n",
        "(torch.randn(1000000) * 0.7).std()"
      ],
      "metadata": {
        "colab": {
          "base_uri": "https://localhost:8080/"
        },
        "id": "sbCUkbl8MJDG",
        "outputId": "81406ddf-a305-459c-c698-be70e05b9566"
      },
      "execution_count": 35,
      "outputs": [
        {
          "output_type": "execute_result",
          "data": {
            "text/plain": [
              "tensor(0.7001)"
            ]
          },
          "metadata": {},
          "execution_count": 35
        }
      ]
    },
    {
      "cell_type": "code",
      "source": [
        "n_embd * block_size"
      ],
      "metadata": {
        "colab": {
          "base_uri": "https://localhost:8080/"
        },
        "id": "Erpxkh7hMhvA",
        "outputId": "ef5bdf1b-ed17-4619-9517-f14236520d26"
      },
      "execution_count": 36,
      "outputs": [
        {
          "output_type": "execute_result",
          "data": {
            "text/plain": [
              "30"
            ]
          },
          "metadata": {},
          "execution_count": 36
        }
      ]
    },
    {
      "cell_type": "code",
      "source": [
        "(5 / 3) / (30 ** 0.5)"
      ],
      "metadata": {
        "colab": {
          "base_uri": "https://localhost:8080/"
        },
        "id": "cGysV-byMdea",
        "outputId": "b8f9500f-14fe-4597-ac61-71cfa710f46e"
      },
      "execution_count": 37,
      "outputs": [
        {
          "output_type": "execute_result",
          "data": {
            "text/plain": [
              "0.3042903097250923"
            ]
          },
          "metadata": {},
          "execution_count": 37
        }
      ]
    },
    {
      "cell_type": "code",
      "source": [
        "max_steps = 200000\n",
        "batch_size = 32\n",
        "lossi = []\n",
        "\n",
        "for i in range(max_steps):\n",
        "\n",
        "  # minibatch construct\n",
        "  ix = torch.randint(0, Xtr.shape[0], (batch_size,), generator=g)\n",
        "  Xb, Yb = Xtr[ix], Ytr[ix]\n",
        "\n",
        "  # forward pass\n",
        "  emb = C[Xb]\n",
        "  embcat = emb.view(emb.shape[0], -1)\n",
        "  hpreact = embcat @ W1 + b1\n",
        "  bnmeani = hpreact.mean(0, keepdim=True)\n",
        "  bnstdi = hpreact.std(0, keepdim=True)\n",
        "  hpreact = bngain * (hpreact - hpreact.mean(0, keepdim=True)) / hpreact.std(0, keepdim=True) + bnbias\n",
        "\n",
        "  with torch.no_grad():\n",
        "    bnmean_running = 0.999 * bnmean_running + 0.001 * bnmeani\n",
        "    bnstd_running = 0.999 * bnstd_running + 0.001 * bnstdi\n",
        "\n",
        "  h = torch.tanh(hpreact)\n",
        "  logits = h @ W2 + b2\n",
        "  loss = F.cross_entropy(logits, Yb)\n",
        "\n",
        "  # backward pass\n",
        "  for p in parameters:\n",
        "    p.grad = None\n",
        "  loss.backward()\n",
        "\n",
        "  # update\n",
        "  lr = 0.1 if i < 100000 else 0.01\n",
        "  for p in parameters:\n",
        "    p.data -= lr * p.grad\n",
        "\n",
        "  # track stats\n",
        "  if i % 10000 == 0:\n",
        "    print(f'{i:7d}/{max_steps:7d}: {loss.item():.4f}')\n",
        "  lossi.append(loss.log10().item())\n",
        "\n",
        "  # break"
      ],
      "metadata": {
        "colab": {
          "base_uri": "https://localhost:8080/"
        },
        "id": "o0tboTjy8yjD",
        "outputId": "9e12acdb-8cc6-4426-f87f-258a13960a07"
      },
      "execution_count": 38,
      "outputs": [
        {
          "output_type": "stream",
          "name": "stdout",
          "text": [
            "      0/ 200000: 3.3239\n",
            "  10000/ 200000: 2.0356\n",
            "  20000/ 200000: 2.5568\n",
            "  30000/ 200000: 1.9879\n",
            "  40000/ 200000: 2.2290\n",
            "  50000/ 200000: 1.8869\n",
            "  60000/ 200000: 2.0665\n",
            "  70000/ 200000: 2.3314\n",
            "  80000/ 200000: 2.3166\n",
            "  90000/ 200000: 2.0408\n",
            " 100000/ 200000: 2.3705\n",
            " 110000/ 200000: 2.3430\n",
            " 120000/ 200000: 1.6249\n",
            " 130000/ 200000: 1.9628\n",
            " 140000/ 200000: 2.2123\n",
            " 150000/ 200000: 1.9918\n",
            " 160000/ 200000: 2.1337\n",
            " 170000/ 200000: 2.4861\n",
            " 180000/ 200000: 2.0826\n",
            " 190000/ 200000: 2.2001\n"
          ]
        }
      ]
    },
    {
      "cell_type": "code",
      "source": [
        "hpreact.shape"
      ],
      "metadata": {
        "colab": {
          "base_uri": "https://localhost:8080/"
        },
        "id": "p-9Xe6VlPsdO",
        "outputId": "6900cd6d-5862-410e-dbb9-050a0045b3a1"
      },
      "execution_count": 39,
      "outputs": [
        {
          "output_type": "execute_result",
          "data": {
            "text/plain": [
              "torch.Size([32, 200])"
            ]
          },
          "metadata": {},
          "execution_count": 39
        }
      ]
    },
    {
      "cell_type": "code",
      "source": [
        "hpreact.mean(0, keepdim=True).shape"
      ],
      "metadata": {
        "colab": {
          "base_uri": "https://localhost:8080/"
        },
        "id": "II-tOCunPugb",
        "outputId": "cc8d03cb-b33a-40d3-d112-5ab67d22654b"
      },
      "execution_count": 40,
      "outputs": [
        {
          "output_type": "execute_result",
          "data": {
            "text/plain": [
              "torch.Size([1, 200])"
            ]
          },
          "metadata": {},
          "execution_count": 40
        }
      ]
    },
    {
      "cell_type": "code",
      "source": [
        "hpreact.std(0, keepdim=True).shape"
      ],
      "metadata": {
        "colab": {
          "base_uri": "https://localhost:8080/"
        },
        "id": "B215874qPwlv",
        "outputId": "c0a820b6-f1b5-4a14-f090-accd27c80415"
      },
      "execution_count": 41,
      "outputs": [
        {
          "output_type": "execute_result",
          "data": {
            "text/plain": [
              "torch.Size([1, 200])"
            ]
          },
          "metadata": {},
          "execution_count": 41
        }
      ]
    },
    {
      "cell_type": "code",
      "source": [
        "plt.hist(h.view(-1).tolist(), 50);"
      ],
      "metadata": {
        "colab": {
          "base_uri": "https://localhost:8080/",
          "height": 430
        },
        "id": "hDQwCXU7DdiQ",
        "outputId": "4d6bb9ae-04a5-4dec-f59e-3033705c85ec"
      },
      "execution_count": 42,
      "outputs": [
        {
          "output_type": "display_data",
          "data": {
            "text/plain": [
              "<Figure size 640x480 with 1 Axes>"
            ],
            "image/png": "[encoded data removed]"
          },
          "metadata": {}
        }
      ]
    },
    {
      "cell_type": "code",
      "source": [
        "plt.hist(hpreact.view(-1).tolist(), 50);"
      ],
      "metadata": {
        "colab": {
          "base_uri": "https://localhost:8080/",
          "height": 430
        },
        "id": "4lJV5Jr8EaPU",
        "outputId": "e3cd7d5c-f0b4-49be-a5c7-ac0cc31bbc15"
      },
      "execution_count": 43,
      "outputs": [
        {
          "output_type": "display_data",
          "data": {
            "text/plain": [
              "<Figure size 640x480 with 1 Axes>"
            ],
            "image/png": "[encoded data removed]"
          },
          "metadata": {}
        }
      ]
    },
    {
      "cell_type": "code",
      "source": [
        "# good that there is no column of white\n",
        "plt.figure(figsize=(20, 10))\n",
        "plt.imshow(h.abs() > 0.99, cmap='gray', interpolation='nearest');"
      ],
      "metadata": {
        "colab": {
          "base_uri": "https://localhost:8080/",
          "height": 132
        },
        "id": "hXUvmN-kFZOc",
        "outputId": "437678a0-dbc5-4ea3-c843-e0f391188086"
      },
      "execution_count": 44,
      "outputs": [
        {
          "output_type": "display_data",
          "data": {
            "text/plain": [
              "<Figure size 2000x1000 with 1 Axes>"
            ],
            "image/png": "[encoded data removed]"
          },
          "metadata": {}
        }
      ]
    },
    {
      "cell_type": "code",
      "source": [
        "# logits[0]"
      ],
      "metadata": {
        "id": "LvvoH_4tWrak"
      },
      "execution_count": 45,
      "outputs": []
    },
    {
      "cell_type": "code",
      "source": [
        "plt.plot(lossi);"
      ],
      "metadata": {
        "colab": {
          "base_uri": "https://localhost:8080/",
          "height": 430
        },
        "id": "6gzZUU_E-HEh",
        "outputId": "5a9ed185-ca10-4574-bc18-0b2f903cebcc"
      },
      "execution_count": 46,
      "outputs": [
        {
          "output_type": "display_data",
          "data": {
            "text/plain": [
              "<Figure size 640x480 with 1 Axes>"
            ],
            "image/png": "[encoded data removed]"
          },
          "metadata": {}
        }
      ]
    },
    {
      "cell_type": "code",
      "source": [
        "# calibrate the batch norm at the end of training\n",
        "\n",
        "with torch.no_grad():\n",
        "  # pass the training set\n",
        "  emb = C[Xtr]\n",
        "  embcat = emb.view(emb.shape[0], -1)\n",
        "  hpreact = embcat @ W1 + b1\n",
        "  # measure the mean/std over the entire training set\n",
        "  bnmean = hpreact.mean(0, keepdim=True)\n",
        "  bnstd = hpreact.std(0, keepdim=True)"
      ],
      "metadata": {
        "id": "v9jKfxe3XuwE"
      },
      "execution_count": 47,
      "outputs": []
    },
    {
      "cell_type": "code",
      "source": [
        "bnmean"
      ],
      "metadata": {
        "id": "-XQ5zLSIdsbi",
        "outputId": "161392ab-6f90-4b39-9d28-a262019324c5",
        "colab": {
          "base_uri": "https://localhost:8080/"
        }
      },
      "execution_count": 48,
      "outputs": [
        {
          "output_type": "execute_result",
          "data": {
            "text/plain": [
              "tensor([[-2.3380e+00,  5.5537e-01, -1.1010e+00,  1.3146e+00,  9.3893e-01,\n",
              "          8.1550e-01,  1.8445e+00, -1.8306e+00,  7.2714e-01,  8.4476e-01,\n",
              "         -1.7701e+00, -2.3960e+00, -5.3662e-01, -4.6545e-01,  6.3703e-02,\n",
              "         -6.2483e-01,  1.3945e+00, -2.2999e+00, -4.6504e-02,  1.6556e+00,\n",
              "         -3.4062e-01,  2.2021e-01,  2.2288e-01,  4.6107e-01,  1.2560e+00,\n",
              "          1.3711e+00,  1.1773e+00,  4.2643e-01,  3.9249e-01,  1.6661e+00,\n",
              "         -9.4092e-02, -1.1780e+00, -4.1826e-01, -6.3576e-01, -5.3490e-01,\n",
              "         -1.6716e+00, -2.6276e+00,  1.7334e-01,  1.3297e-01,  5.8530e-01,\n",
              "         -3.2139e-01, -1.2093e+00, -4.6517e-01,  2.1397e-01,  7.7695e-01,\n",
              "          7.8225e-01,  2.0191e+00, -5.7977e-01,  1.7677e+00,  1.1049e+00,\n",
              "          1.2861e+00, -5.3959e-01,  1.5705e+00,  5.5938e-01,  7.1843e-01,\n",
              "         -1.7017e+00,  1.9302e-01,  3.0934e-01,  9.9526e-01, -1.0805e+00,\n",
              "         -5.8754e-01,  7.8573e-01,  3.9990e-01,  2.5045e-01,  1.7250e+00,\n",
              "          1.3600e+00, -1.6308e+00,  2.3759e+00, -8.3793e-01, -2.1678e-02,\n",
              "          4.6698e-01, -1.2023e-01,  1.2118e+00, -1.5454e+00, -3.2071e+00,\n",
              "          1.6584e-01,  6.2221e-01, -2.6657e-02,  6.2887e-01,  6.9923e-01,\n",
              "         -1.7382e-03,  1.3277e+00,  1.6748e+00,  4.8550e-01, -1.7105e-01,\n",
              "          1.8920e-01, -1.8453e+00,  2.9176e-01, -1.9249e-01, -2.6726e-01,\n",
              "         -5.7013e-01,  1.5292e+00, -5.9249e-01, -1.2880e+00, -7.1345e-01,\n",
              "          3.6635e-01, -3.0212e-01,  4.6832e-01,  1.0146e-01, -7.4393e-01,\n",
              "          1.0728e-01,  7.4723e-01, -1.3507e+00,  1.2425e+00,  4.7233e-01,\n",
              "         -2.4047e-01, -4.7522e-01,  6.8518e-02,  1.3040e+00, -8.1134e-01,\n",
              "          6.9593e-01,  1.9679e-01,  1.4260e-01,  1.4847e+00,  2.9194e+00,\n",
              "          2.0084e+00,  5.4652e-02, -8.1320e-03,  3.4828e-01, -5.2785e-01,\n",
              "         -1.3543e+00, -9.5072e-01,  2.5479e-01,  5.4914e-01, -3.9990e-01,\n",
              "         -4.6025e-02,  5.3303e-01, -4.3545e-01, -5.1608e-01, -1.2076e+00,\n",
              "          2.5093e+00, -1.2072e+00,  1.0403e+00,  2.4956e+00,  3.7055e-01,\n",
              "          5.7134e-01,  1.9972e-02,  1.9355e+00,  2.6560e-01,  1.1156e+00,\n",
              "          1.3167e+00, -3.6011e-01,  1.9302e+00,  5.8735e-01,  6.3186e-01,\n",
              "         -2.7361e-01,  9.5224e-01, -8.7321e-01,  6.5033e-01, -3.4105e-01,\n",
              "         -2.2143e+00, -7.2969e-02,  1.4038e+00,  8.4873e-01,  6.8125e-01,\n",
              "         -2.6610e-01,  1.2396e+00, -1.3600e+00, -2.8360e-01,  8.2122e-01,\n",
              "          4.4704e-01, -6.3688e-01,  1.0648e+00, -2.6518e+00, -3.6446e-01,\n",
              "         -6.0742e-01, -6.0858e-02,  5.3910e-01, -1.6331e+00,  2.2567e-02,\n",
              "          4.7021e-01, -1.7578e+00, -2.3113e-01, -4.6155e-01, -8.3246e-01,\n",
              "          9.6986e-01,  1.7189e+00, -1.3031e+00,  1.1840e+00, -1.6379e+00,\n",
              "          1.9394e+00,  8.9266e-01,  7.4926e-01, -1.1391e+00,  5.3388e-01,\n",
              "         -1.6158e-01, -1.2335e+00,  4.2528e-01,  1.7879e+00,  8.0162e-01,\n",
              "         -2.1495e-01,  1.5561e+00, -8.8988e-01,  1.3235e-01,  1.5099e-01,\n",
              "          1.3828e+00,  1.2000e+00, -9.8076e-01,  1.7791e-01,  9.5116e-01]])"
            ]
          },
          "metadata": {},
          "execution_count": 48
        }
      ]
    },
    {
      "cell_type": "code",
      "source": [
        "bnmean_running"
      ],
      "metadata": {
        "id": "ppHl6DW1dtIw",
        "outputId": "861837f7-b595-4c41-b00e-408da4af45d3",
        "colab": {
          "base_uri": "https://localhost:8080/"
        }
      },
      "execution_count": 49,
      "outputs": [
        {
          "output_type": "execute_result",
          "data": {
            "text/plain": [
              "tensor([[-2.3512,  0.5585, -1.0894,  1.3186,  0.9479,  0.8054,  1.8336, -1.8403,\n",
              "          0.7234,  0.8290, -1.7798, -2.3889, -0.5386, -0.4785,  0.0654, -0.6133,\n",
              "          1.3964, -2.3138, -0.0710,  1.6362, -0.3275,  0.2421,  0.2244,  0.4633,\n",
              "          1.2566,  1.3743,  1.1842,  0.4286,  0.3899,  1.6639, -0.1108, -1.1740,\n",
              "         -0.4182, -0.6386, -0.5288, -1.6691, -2.6234,  0.1676,  0.1483,  0.5973,\n",
              "         -0.3243, -1.2305, -0.4620,  0.2167,  0.7887,  0.7882,  2.0188, -0.5840,\n",
              "          1.7518,  1.0938,  1.2795, -0.5486,  1.5565,  0.5511,  0.7068, -1.7003,\n",
              "          0.1909,  0.3080,  1.0001, -1.0804, -0.6034,  0.7700,  0.3923,  0.2444,\n",
              "          1.7210,  1.3461, -1.6405,  2.3671, -0.8293, -0.0056,  0.4570, -0.1060,\n",
              "          1.1975, -1.5142, -3.2022,  0.1573,  0.6195, -0.0158,  0.6368,  0.6912,\n",
              "         -0.0061,  1.3144,  1.6557,  0.4976, -0.1653,  0.1882, -1.8448,  0.2828,\n",
              "         -0.2021, -0.2560, -0.5759,  1.5365, -0.5834, -1.2916, -0.7057,  0.3644,\n",
              "         -0.3186,  0.4776,  0.1062, -0.7261,  0.1091,  0.7478, -1.3592,  1.2426,\n",
              "          0.4741, -0.2327, -0.4718,  0.0619,  1.3075, -0.8330,  0.6847,  0.2074,\n",
              "          0.1281,  1.4916,  2.9008,  2.0012,  0.0529, -0.0232,  0.3417, -0.5248,\n",
              "         -1.3710, -0.9446,  0.2500,  0.5547, -0.4052, -0.0516,  0.5212, -0.4441,\n",
              "         -0.5098, -1.2086,  2.5001, -1.1986,  1.0491,  2.5013,  0.3878,  0.5692,\n",
              "          0.0165,  1.9190,  0.2679,  1.1311,  1.3297, -0.3614,  1.9320,  0.5990,\n",
              "          0.6137, -0.2730,  0.9645, -0.8678,  0.6433, -0.3284, -2.2151, -0.0686,\n",
              "          1.4057,  0.8427,  0.6715, -0.2688,  1.2385, -1.3594, -0.2803,  0.8035,\n",
              "          0.4360, -0.6334,  1.0649, -2.6313, -0.3675, -0.6078, -0.0556,  0.5195,\n",
              "         -1.6262,  0.0315,  0.4534, -1.7651, -0.2362, -0.4527, -0.8373,  0.9801,\n",
              "          1.7163, -1.2983,  1.1836, -1.6470,  1.9287,  0.8991,  0.7394, -1.1316,\n",
              "          0.5167, -0.1623, -1.2388,  0.4207,  1.7973,  0.7981, -0.2071,  1.5600,\n",
              "         -0.9068,  0.1288,  0.1702,  1.3727,  1.2018, -0.9865,  0.1646,  0.9475]])"
            ]
          },
          "metadata": {},
          "execution_count": 49
        }
      ]
    },
    {
      "cell_type": "code",
      "source": [
        "# bnstd"
      ],
      "metadata": {
        "id": "YN21X3oDbrop"
      },
      "execution_count": 50,
      "outputs": []
    },
    {
      "cell_type": "code",
      "source": [
        "# bnstd_running"
      ],
      "metadata": {
        "id": "7lkFQD82bsAM"
      },
      "execution_count": 51,
      "outputs": []
    },
    {
      "cell_type": "code",
      "source": [
        "@torch.no_grad() # this decorator disables gradient tracking\n",
        "def split_loss(split):\n",
        "  x, y = {\n",
        "      'train': (Xtr, Ytr),\n",
        "      'val': (Xdev, Ydev),\n",
        "      'test': (Xte, Yte)\n",
        "  }[split]\n",
        "  emb = C[x] # (N, block_size, n_embd)\n",
        "  embcat = emb.view(emb.shape[0], -1) # concat into (N, block_size * n_embd)\n",
        "  hpreact = embcat @ W1 + b1\n",
        "  # hpreact = bngain * (hpreact - hpreact.mean(0, keepdim=True)) / hpreact.std(0, keepdim=True)\n",
        "  hpreact = bngain * (hpreact - bnmean_running) / bnstd_running + bnbias\n",
        "  h = torch.tanh(hpreact)\n",
        "  logits = h @ W2 + b2\n",
        "  loss = F.cross_entropy(logits, y)\n",
        "  print(split, loss.item())"
      ],
      "metadata": {
        "id": "vUiXpHwI-8_v"
      },
      "execution_count": 52,
      "outputs": []
    },
    {
      "cell_type": "code",
      "source": [
        "split_loss('train')\n",
        "split_loss('test')"
      ],
      "metadata": {
        "colab": {
          "base_uri": "https://localhost:8080/"
        },
        "id": "ZUGmmOL8_h9C",
        "outputId": "b603c9f1-ed5c-40f1-c26f-91b598298617"
      },
      "execution_count": 53,
      "outputs": [
        {
          "output_type": "stream",
          "name": "stdout",
          "text": [
            "train 2.067155361175537\n",
            "test 2.1065657138824463\n"
          ]
        }
      ]
    },
    {
      "cell_type": "code",
      "source": [
        "# sample from the model\n",
        "g = torch.Generator().manual_seed(214783647 + 10)\n",
        "\n",
        "for _ in range(20):\n",
        "\n",
        "    out = []\n",
        "    context = [0] * block_size\n",
        "    while True:\n",
        "        # forward pass the neural net\n",
        "        context_tensor = torch.tensor([context])  # Convert context to a tensor of shape (1, block_size)\n",
        "        emb = C[context_tensor]  # (1, block_size, n_embd)\n",
        "        h = torch.tanh(emb.view(1, -1) @ W1 + b1)  # Compute hidden layer\n",
        "        logits = h @ W2 + b2  # Compute logits\n",
        "        probs = F.softmax(logits, dim=1)  # Compute probabilities\n",
        "        # sample from the distribution\n",
        "        ix = torch.multinomial(probs, num_samples=1, generator=g).item()\n",
        "        # shift the context window and track the samples\n",
        "        context = context[1:] + [ix]\n",
        "        out.append(ix)\n",
        "        # if we sample the special '.' token, break\n",
        "        if ix == 0:\n",
        "            break\n",
        "\n",
        "    print(''.join(itos[i] for i in out))"
      ],
      "metadata": {
        "colab": {
          "base_uri": "https://localhost:8080/"
        },
        "id": "EQMp9EsfAhqL",
        "outputId": "86b85674-fa20-4cf7-9927-1c32b4653976"
      },
      "execution_count": 54,
      "outputs": [
        {
          "output_type": "stream",
          "name": "stdout",
          "text": [
            "menrexdulissiahshb.\n",
            "srvy.\n",
            "mazesiamsiahanzellid.\n",
            "britsumasrishbnnivessstts.\n",
            "piveah.\n",
            "brayshtukiyah.\n",
            "franzsxayahmidarik.\n",
            "saddh.\n",
            "miyah.\n",
            "sulylisamaidhlyliersemmikalissammariamarifergiyzahsiadamaisleyah.\n",
            "vizellnnishyaltxpedd.\n",
            "vekahlanifranshtrl.\n",
            "helmyshettll.\n",
            "saidarifunesskubiersofertph.\n",
            "brienc.\n",
            "saidin.\n",
            "stavahmiliyannistin.\n",
            "zaypirizabrymudith.\n",
            "sabiresdianayaceslyndhleighdya.\n",
            "tebbyashmishjaqahmfasdie.\n"
          ]
        }
      ]
    },
    {
      "cell_type": "markdown",
      "source": [
        "Summary"
      ],
      "metadata": {
        "id": "AnhfcZBD9HHB"
      }
    },
    {
      "cell_type": "code",
      "source": [
        "# Let's train a deeper neural network\n",
        "\n",
        "class Linear:\n",
        "  def __init__(self, fan_in, fan_out, bias=True):\n",
        "    self.weight = torch.randn((fan_in, fan_out), generator=g) / (fan_in ** 0.5)\n",
        "    self.bias = torch.zeros(fan_out) if bias else None\n",
        "\n",
        "  def __call__(self, x):\n",
        "    self.out =  x @ self.weight\n",
        "    if self.bias is not None:\n",
        "      self.out += self.bias\n",
        "\n",
        "    return self.out\n",
        "\n",
        "  def parameters(self):\n",
        "    return [self.weight] + ([] if self.bias is None else [self.bias])\n",
        "\n",
        "class BatchNorm1d:\n",
        "\n",
        "  def __init__(self, dim, eps=1e-5, momentum=0.1):\n",
        "    self.eps = eps\n",
        "    self.momentum = momentum\n",
        "    # parameters (trained wit backprop)\n",
        "    self.gamma = torch.ones(dim)\n",
        "    self.beta = torch.zeros(dim)\n",
        "    # buffers (trained with a running 'momentum update')\n",
        "    self.running_mean = torch.zeros(dim)\n",
        "    self.running_var = torch.ones(dim)\n",
        "\n",
        "  def __call__(self, x):\n",
        "    # calculate the forward pass\n",
        "    if self.training:\n",
        "      xmean = x.mean(0, keepdim=True)\n",
        "      xvar = x.var(0, keepdim=True)\n",
        "    else:\n",
        "      xmean = self.running_mean\n",
        "      xvar = self.running_var\n",
        "    xhat = (x - xmean) / torch.sqrt(xvar + self.eps)\n",
        "    self.out = self.gamma * xhat + self.beta\n",
        "    # update the buffers\n",
        "    if self.training:\n",
        "      with torch.no_grad():\n",
        "        self.running_mean = (1 - self.momentum) * self.running_mean + self.momentum * xmean\n",
        "        self.running_var = (1 - self.momentum) * self.running_var + self.momentum * xvar\n",
        "    return self.out\n",
        "\n",
        "  def parameters(self):\n",
        "    return [self.gamma, self.beta]\n",
        "\n",
        "class Tanh:\n",
        "  def __call__(self, x):\n",
        "    self.out = torch.tanh(x)\n",
        "    return self.out\n",
        "  def parameters(self):\n",
        "    return []\n"
      ],
      "metadata": {
        "id": "ZAyIm_mBCuCT"
      },
      "execution_count": 58,
      "outputs": []
    },
    {
      "cell_type": "code",
      "source": [
        "n_embd = 10\n",
        "n_hidden = 100\n",
        "g = torch.Generator().manual_seed(2147483647)\n",
        "\n",
        "C = torch.randn((vocab_size, n_embd), generator=g)\n",
        "layers = [\n",
        "    Linear(n_embd * block_size, n_hidden), Tanh(),\n",
        "    Linear(n_hidden, n_hidden), Tanh(),\n",
        "    Linear(n_hidden, n_hidden), Tanh(),\n",
        "    Linear(n_hidden, n_hidden), Tanh(),\n",
        "    Linear(n_hidden, n_hidden), Tanh(),\n",
        "    Linear(n_hidden, vocab_size)\n",
        "]\n",
        "\n",
        "with torch.no_grad():\n",
        "  # last layer: make less confident\n",
        "  layers[-1].weight *= 0.1\n",
        "  # all other layers: apply gain\n",
        "  for layer in layers[:-1]:\n",
        "    if isinstance(layer, Linear):\n",
        "      layer.weight *= 5/3\n",
        "\n",
        "parameters = [C] + [p for layer in layers for p in layer.parameters()]\n",
        "print(sum(p.nelement() for p in parameters))\n",
        "for p in parameters:\n",
        "  p.requires_grad = True"
      ],
      "metadata": {
        "id": "r2FB0vmDC3F8",
        "colab": {
          "base_uri": "https://localhost:8080/"
        },
        "outputId": "baf5ba85-c13e-46ab-b515-5466c71d93ca"
      },
      "execution_count": 59,
      "outputs": [
        {
          "output_type": "stream",
          "name": "stdout",
          "text": [
            "46497\n"
          ]
        }
      ]
    },
    {
      "cell_type": "code",
      "source": [
        "# same optimization as last time\n",
        "max_steps = 200000\n",
        "batch_size = 32\n",
        "lossi = []\n",
        "\n",
        "for i in range(max_steps):\n",
        "\n",
        "  # minibatch construct\n",
        "  ix = torch.randint(0, Xtr.shape[0], (batch_size,), generator=g)\n",
        "  Xb, Yb = Xtr[ix], Ytr[ix]\n",
        "\n",
        "  # forward pass\n",
        "  emb = C[Xb]\n",
        "  x = emb.view(emb.shape[0], -1)\n",
        "  for layer in layers:\n",
        "    x = layer(x)\n",
        "  loss = F.cross_entropy(x, Yb)\n",
        "\n",
        "  # backward pass\n",
        "  for layer in layers:\n",
        "    layer.out.retain_grad() # AFTER_DEBUG: would take out retain_graph\n",
        "  for p in parameters:\n",
        "    p.grad = None\n",
        "  loss.backward()\n",
        "\n",
        "  # update\n",
        "  lr = 0.1 if i < 100000 else 0.01\n",
        "  for p in parameters:\n",
        "    p -= lr * p.grad\n",
        "\n",
        "  # tract stats\n",
        "  if i % 10000 == 0:\n",
        "    print(f'{i:7d}/{max_steps:7d}: {loss.item():.4f}')\n",
        "  lossi.append(loss.log10().item())\n",
        "\n",
        "  break"
      ],
      "metadata": {
        "id": "umE-_sCTCEFU"
      },
      "execution_count": null,
      "outputs": []
    }
  ]
}